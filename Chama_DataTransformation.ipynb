{
 "cells": [
  {
   "cell_type": "code",
   "execution_count": 1,
   "metadata": {},
   "outputs": [],
   "source": [
    "import pandas as pd\n",
    "import numpy as np\n",
    "import json"
   ]
  },
  {
   "cell_type": "code",
   "execution_count": 2,
   "metadata": {},
   "outputs": [
    {
     "data": {
      "text/plain": "pandas.core.frame.DataFrame"
     },
     "execution_count": 2,
     "metadata": {},
     "output_type": "execute_result"
    }
   ],
   "source": [
    "temp = pd.read_json('./datasets/case.json')\n",
    "type(temp)"
   ]
  },
  {
   "cell_type": "code",
   "execution_count": 3,
   "metadata": {},
   "outputs": [
    {
     "data": {
      "text/plain": "           EnqueuedTimeUtc            EventName  \\\n0  2021-09-05 08:04:08 UTC  DynamicPrice_Result   \n1  2021-08-18 11:43:23 UTC  DynamicPrice_Result   \n2  2021-09-05 09:04:04 UTC  DynamicPrice_Result   \n3  2021-08-25 05:02:55 UTC   CurateOffer_Result   \n4  2021-09-05 08:03:28 UTC  DynamicPrice_Result   \n\n                                             Payload  \n0  {\"provider\":\"ApplyDynamicPriceRange\",\"offerId\"...  \n1  {\"provider\":\"ApplyDynamicPricePerOption\",\"offe...  \n2  {\"provider\":\"ApplyDynamicPriceRange\",\"offerId\"...  \n3  [{\"curationProvider\":\"ByPrice\",\"offerId\":\"149f...  \n4  {\"provider\":\"ApplyDynamicPriceRange\",\"offerId\"...  ",
      "text/html": "<div>\n<style scoped>\n    .dataframe tbody tr th:only-of-type {\n        vertical-align: middle;\n    }\n\n    .dataframe tbody tr th {\n        vertical-align: top;\n    }\n\n    .dataframe thead th {\n        text-align: right;\n    }\n</style>\n<table border=\"1\" class=\"dataframe\">\n  <thead>\n    <tr style=\"text-align: right;\">\n      <th></th>\n      <th>EnqueuedTimeUtc</th>\n      <th>EventName</th>\n      <th>Payload</th>\n    </tr>\n  </thead>\n  <tbody>\n    <tr>\n      <th>0</th>\n      <td>2021-09-05 08:04:08 UTC</td>\n      <td>DynamicPrice_Result</td>\n      <td>{\"provider\":\"ApplyDynamicPriceRange\",\"offerId\"...</td>\n    </tr>\n    <tr>\n      <th>1</th>\n      <td>2021-08-18 11:43:23 UTC</td>\n      <td>DynamicPrice_Result</td>\n      <td>{\"provider\":\"ApplyDynamicPricePerOption\",\"offe...</td>\n    </tr>\n    <tr>\n      <th>2</th>\n      <td>2021-09-05 09:04:04 UTC</td>\n      <td>DynamicPrice_Result</td>\n      <td>{\"provider\":\"ApplyDynamicPriceRange\",\"offerId\"...</td>\n    </tr>\n    <tr>\n      <th>3</th>\n      <td>2021-08-25 05:02:55 UTC</td>\n      <td>CurateOffer_Result</td>\n      <td>[{\"curationProvider\":\"ByPrice\",\"offerId\":\"149f...</td>\n    </tr>\n    <tr>\n      <th>4</th>\n      <td>2021-09-05 08:03:28 UTC</td>\n      <td>DynamicPrice_Result</td>\n      <td>{\"provider\":\"ApplyDynamicPriceRange\",\"offerId\"...</td>\n    </tr>\n  </tbody>\n</table>\n</div>"
     },
     "execution_count": 3,
     "metadata": {},
     "output_type": "execute_result"
    }
   ],
   "source": [
    "temp.head()"
   ]
  },
  {
   "cell_type": "code",
   "execution_count": 4,
   "metadata": {},
   "outputs": [
    {
     "data": {
      "text/plain": "            EnqueuedTimeUtc            EventName  \\\n0 2021-09-05 05:04:08-03:00  DynamicPrice_Result   \n1 2021-08-18 08:43:23-03:00  DynamicPrice_Result   \n2 2021-09-05 06:04:04-03:00  DynamicPrice_Result   \n3 2021-08-25 02:02:55-03:00   CurateOffer_Result   \n4 2021-09-05 05:03:28-03:00  DynamicPrice_Result   \n\n                                             Payload  \n0  {\"provider\":\"ApplyDynamicPriceRange\",\"offerId\"...  \n1  {\"provider\":\"ApplyDynamicPricePerOption\",\"offe...  \n2  {\"provider\":\"ApplyDynamicPriceRange\",\"offerId\"...  \n3  [{\"curationProvider\":\"ByPrice\",\"offerId\":\"149f...  \n4  {\"provider\":\"ApplyDynamicPriceRange\",\"offerId\"...  ",
      "text/html": "<div>\n<style scoped>\n    .dataframe tbody tr th:only-of-type {\n        vertical-align: middle;\n    }\n\n    .dataframe tbody tr th {\n        vertical-align: top;\n    }\n\n    .dataframe thead th {\n        text-align: right;\n    }\n</style>\n<table border=\"1\" class=\"dataframe\">\n  <thead>\n    <tr style=\"text-align: right;\">\n      <th></th>\n      <th>EnqueuedTimeUtc</th>\n      <th>EventName</th>\n      <th>Payload</th>\n    </tr>\n  </thead>\n  <tbody>\n    <tr>\n      <th>0</th>\n      <td>2021-09-05 05:04:08-03:00</td>\n      <td>DynamicPrice_Result</td>\n      <td>{\"provider\":\"ApplyDynamicPriceRange\",\"offerId\"...</td>\n    </tr>\n    <tr>\n      <th>1</th>\n      <td>2021-08-18 08:43:23-03:00</td>\n      <td>DynamicPrice_Result</td>\n      <td>{\"provider\":\"ApplyDynamicPricePerOption\",\"offe...</td>\n    </tr>\n    <tr>\n      <th>2</th>\n      <td>2021-09-05 06:04:04-03:00</td>\n      <td>DynamicPrice_Result</td>\n      <td>{\"provider\":\"ApplyDynamicPriceRange\",\"offerId\"...</td>\n    </tr>\n    <tr>\n      <th>3</th>\n      <td>2021-08-25 02:02:55-03:00</td>\n      <td>CurateOffer_Result</td>\n      <td>[{\"curationProvider\":\"ByPrice\",\"offerId\":\"149f...</td>\n    </tr>\n    <tr>\n      <th>4</th>\n      <td>2021-09-05 05:03:28-03:00</td>\n      <td>DynamicPrice_Result</td>\n      <td>{\"provider\":\"ApplyDynamicPriceRange\",\"offerId\"...</td>\n    </tr>\n  </tbody>\n</table>\n</div>"
     },
     "execution_count": 4,
     "metadata": {},
     "output_type": "execute_result"
    }
   ],
   "source": [
    "# transform to Brazilian timezone\n",
    "temp[\"EnqueuedTimeUtc\"] = pd.to_datetime(arg=temp[\"EnqueuedTimeUtc\"]).dt.tz_convert(tz=\"Brazil/East\")\n",
    "temp.head()"
   ]
  },
  {
   "cell_type": "code",
   "execution_count": 5,
   "metadata": {},
   "outputs": [
    {
     "data": {
      "text/plain": "DynamicPrice_Result    32\nCurateOffer_Result      5\nName: EventName, dtype: int64"
     },
     "execution_count": 5,
     "metadata": {},
     "output_type": "execute_result"
    }
   ],
   "source": [
    "temp.EventName.value_counts()"
   ]
  },
  {
   "cell_type": "code",
   "execution_count": 6,
   "metadata": {},
   "outputs": [
    {
     "data": {
      "text/plain": "['DynamicPrice_Result', 'CurateOffer_Result']"
     },
     "execution_count": 6,
     "metadata": {},
     "output_type": "execute_result"
    }
   ],
   "source": [
    "unique_eventnames = list(temp.EventName.unique())\n",
    "unique_eventnames"
   ]
  },
  {
   "cell_type": "code",
   "execution_count": 7,
   "metadata": {},
   "outputs": [
    {
     "data": {
      "text/plain": "   index           EnqueuedTimeUtc            EventName  \\\n0      0 2021-09-05 05:04:08-03:00  DynamicPrice_Result   \n1      1 2021-08-18 08:43:23-03:00  DynamicPrice_Result   \n2      2 2021-09-05 06:04:04-03:00  DynamicPrice_Result   \n3      4 2021-09-05 05:03:28-03:00  DynamicPrice_Result   \n4      5 2021-08-18 08:44:00-03:00  DynamicPrice_Result   \n\n                                             Payload  \n0  {\"provider\":\"ApplyDynamicPriceRange\",\"offerId\"...  \n1  {\"provider\":\"ApplyDynamicPricePerOption\",\"offe...  \n2  {\"provider\":\"ApplyDynamicPriceRange\",\"offerId\"...  \n3  {\"provider\":\"ApplyDynamicPriceRange\",\"offerId\"...  \n4  {\"provider\":\"ApplyDynamicPricePerOption\",\"offe...  ",
      "text/html": "<div>\n<style scoped>\n    .dataframe tbody tr th:only-of-type {\n        vertical-align: middle;\n    }\n\n    .dataframe tbody tr th {\n        vertical-align: top;\n    }\n\n    .dataframe thead th {\n        text-align: right;\n    }\n</style>\n<table border=\"1\" class=\"dataframe\">\n  <thead>\n    <tr style=\"text-align: right;\">\n      <th></th>\n      <th>index</th>\n      <th>EnqueuedTimeUtc</th>\n      <th>EventName</th>\n      <th>Payload</th>\n    </tr>\n  </thead>\n  <tbody>\n    <tr>\n      <th>0</th>\n      <td>0</td>\n      <td>2021-09-05 05:04:08-03:00</td>\n      <td>DynamicPrice_Result</td>\n      <td>{\"provider\":\"ApplyDynamicPriceRange\",\"offerId\"...</td>\n    </tr>\n    <tr>\n      <th>1</th>\n      <td>1</td>\n      <td>2021-08-18 08:43:23-03:00</td>\n      <td>DynamicPrice_Result</td>\n      <td>{\"provider\":\"ApplyDynamicPricePerOption\",\"offe...</td>\n    </tr>\n    <tr>\n      <th>2</th>\n      <td>2</td>\n      <td>2021-09-05 06:04:04-03:00</td>\n      <td>DynamicPrice_Result</td>\n      <td>{\"provider\":\"ApplyDynamicPriceRange\",\"offerId\"...</td>\n    </tr>\n    <tr>\n      <th>3</th>\n      <td>4</td>\n      <td>2021-09-05 05:03:28-03:00</td>\n      <td>DynamicPrice_Result</td>\n      <td>{\"provider\":\"ApplyDynamicPriceRange\",\"offerId\"...</td>\n    </tr>\n    <tr>\n      <th>4</th>\n      <td>5</td>\n      <td>2021-08-18 08:44:00-03:00</td>\n      <td>DynamicPrice_Result</td>\n      <td>{\"provider\":\"ApplyDynamicPricePerOption\",\"offe...</td>\n    </tr>\n  </tbody>\n</table>\n</div>"
     },
     "execution_count": 7,
     "metadata": {},
     "output_type": "execute_result"
    }
   ],
   "source": [
    "for i in unique_eventnames:\n",
    "    if(i=='DynamicPrice_Result'):\n",
    "        DynamicPrice_Result = temp[temp['EventName']==i]\n",
    "        DynamicPrice_Result.reset_index(inplace=True)\n",
    "    else:\n",
    "        CurateOffer_Result = temp[temp['EventName']==i]\n",
    "        CurateOffer_Result.reset_index(inplace=True)\n",
    "\n",
    "DynamicPrice_Result.head()"
   ]
  },
  {
   "cell_type": "code",
   "execution_count": 8,
   "metadata": {},
   "outputs": [
    {
     "data": {
      "text/plain": "   index           EnqueuedTimeUtc           EventName  \\\n0      3 2021-08-25 02:02:55-03:00  CurateOffer_Result   \n1     13 2021-08-25 06:03:29-03:00  CurateOffer_Result   \n2     15 2021-08-25 02:02:18-03:00  CurateOffer_Result   \n3     17 2021-08-25 06:02:29-03:00  CurateOffer_Result   \n4     35 2021-08-25 06:03:14-03:00  CurateOffer_Result   \n\n                                             Payload  \n0  [{\"curationProvider\":\"ByPrice\",\"offerId\":\"149f...  \n1  [{\"curationProvider\":\"ByPrice\",\"offerId\":\"c99a...  \n2  [{\"curationProvider\":\"ByPrice\",\"offerId\":\"d668...  \n3  [{\"curationProvider\":\"ByPrice\",\"offerId\":\"0a06...  \n4  [{\"curationProvider\":\"ByPrice\",\"offerId\":\"135d...  ",
      "text/html": "<div>\n<style scoped>\n    .dataframe tbody tr th:only-of-type {\n        vertical-align: middle;\n    }\n\n    .dataframe tbody tr th {\n        vertical-align: top;\n    }\n\n    .dataframe thead th {\n        text-align: right;\n    }\n</style>\n<table border=\"1\" class=\"dataframe\">\n  <thead>\n    <tr style=\"text-align: right;\">\n      <th></th>\n      <th>index</th>\n      <th>EnqueuedTimeUtc</th>\n      <th>EventName</th>\n      <th>Payload</th>\n    </tr>\n  </thead>\n  <tbody>\n    <tr>\n      <th>0</th>\n      <td>3</td>\n      <td>2021-08-25 02:02:55-03:00</td>\n      <td>CurateOffer_Result</td>\n      <td>[{\"curationProvider\":\"ByPrice\",\"offerId\":\"149f...</td>\n    </tr>\n    <tr>\n      <th>1</th>\n      <td>13</td>\n      <td>2021-08-25 06:03:29-03:00</td>\n      <td>CurateOffer_Result</td>\n      <td>[{\"curationProvider\":\"ByPrice\",\"offerId\":\"c99a...</td>\n    </tr>\n    <tr>\n      <th>2</th>\n      <td>15</td>\n      <td>2021-08-25 02:02:18-03:00</td>\n      <td>CurateOffer_Result</td>\n      <td>[{\"curationProvider\":\"ByPrice\",\"offerId\":\"d668...</td>\n    </tr>\n    <tr>\n      <th>3</th>\n      <td>17</td>\n      <td>2021-08-25 06:02:29-03:00</td>\n      <td>CurateOffer_Result</td>\n      <td>[{\"curationProvider\":\"ByPrice\",\"offerId\":\"0a06...</td>\n    </tr>\n    <tr>\n      <th>4</th>\n      <td>35</td>\n      <td>2021-08-25 06:03:14-03:00</td>\n      <td>CurateOffer_Result</td>\n      <td>[{\"curationProvider\":\"ByPrice\",\"offerId\":\"135d...</td>\n    </tr>\n  </tbody>\n</table>\n</div>"
     },
     "execution_count": 8,
     "metadata": {},
     "output_type": "execute_result"
    }
   ],
   "source": [
    "CurateOffer_Result.head()"
   ]
  },
  {
   "cell_type": "code",
   "execution_count": 9,
   "metadata": {},
   "outputs": [
    {
     "data": {
      "text/plain": "{'provider': 'ApplyDynamicPriceRange',\n 'offerId': 'a6611d55-9624-4381-8cdd-323ee3689241',\n 'algorithmOutput': {'min_global': 85.0,\n  'min_recommended': 87.2,\n  'max_recommended': 97.65,\n  'differenceMinRecommendMinTheory': 2.2}}"
     },
     "execution_count": 9,
     "metadata": {},
     "output_type": "execute_result"
    }
   ],
   "source": [
    "json.loads(DynamicPrice_Result.Payload[0])"
   ]
  },
  {
   "cell_type": "code",
   "execution_count": 10,
   "metadata": {},
   "outputs": [
    {
     "data": {
      "text/plain": "                        Provider                                 OfferId  \\\n0   \"ApplyDynamicPricePerOption\"  \"56e0702c-0218-4626-8d3d-ae9d54b4503b\"   \n1   \"ApplyDynamicPricePerOption\"  \"56e0702c-0218-4626-8d3d-ae9d54b4503b\"   \n2   \"ApplyDynamicPricePerOption\"  \"56e0702c-0218-4626-8d3d-ae9d54b4503b\"   \n3   \"ApplyDynamicPricePerOption\"  \"56e0702c-0218-4626-8d3d-ae9d54b4503b\"   \n4   \"ApplyDynamicPricePerOption\"  \"56e0702c-0218-4626-8d3d-ae9d54b4503b\"   \n5   \"ApplyDynamicPricePerOption\"  \"56e0702c-0218-4626-8d3d-ae9d54b4503b\"   \n6   \"ApplyDynamicPricePerOption\"  \"56e0702c-0218-4626-8d3d-ae9d54b4503b\"   \n7   \"ApplyDynamicPricePerOption\"  \"56e0702c-0218-4626-8d3d-ae9d54b4503b\"   \n8   \"ApplyDynamicPricePerOption\"  \"00991873-194e-4a6e-89c9-8f68668b6aaa\"   \n9   \"ApplyDynamicPricePerOption\"  \"00991873-194e-4a6e-89c9-8f68668b6aaa\"   \n10  \"ApplyDynamicPricePerOption\"  \"00991873-194e-4a6e-89c9-8f68668b6aaa\"   \n11  \"ApplyDynamicPricePerOption\"  \"00991873-194e-4a6e-89c9-8f68668b6aaa\"   \n12  \"ApplyDynamicPricePerOption\"  \"00991873-194e-4a6e-89c9-8f68668b6aaa\"   \n13  \"ApplyDynamicPricePerOption\"  \"00991873-194e-4a6e-89c9-8f68668b6aaa\"   \n14  \"ApplyDynamicPricePerOption\"  \"00991873-194e-4a6e-89c9-8f68668b6aaa\"   \n15  \"ApplyDynamicPricePerOption\"  \"00991873-194e-4a6e-89c9-8f68668b6aaa\"   \n16  \"ApplyDynamicPricePerOption\"  \"00991873-194e-4a6e-89c9-8f68668b6aaa\"   \n17  \"ApplyDynamicPricePerOption\"  \"00991873-194e-4a6e-89c9-8f68668b6aaa\"   \n18  \"ApplyDynamicPricePerOption\"  \"00991873-194e-4a6e-89c9-8f68668b6aaa\"   \n19  \"ApplyDynamicPricePerOption\"  \"00991873-194e-4a6e-89c9-8f68668b6aaa\"   \n20  \"ApplyDynamicPricePerOption\"  \"00991873-194e-4a6e-89c9-8f68668b6aaa\"   \n21  \"ApplyDynamicPricePerOption\"  \"00991873-194e-4a6e-89c9-8f68668b6aaa\"   \n22  \"ApplyDynamicPricePerOption\"  \"00991873-194e-4a6e-89c9-8f68668b6aaa\"   \n23  \"ApplyDynamicPricePerOption\"  \"00991873-194e-4a6e-89c9-8f68668b6aaa\"   \n24  \"ApplyDynamicPricePerOption\"  \"7a471a13-7922-4e7a-9667-9b2f96b44a2a\"   \n25  \"ApplyDynamicPricePerOption\"  \"7a471a13-7922-4e7a-9667-9b2f96b44a2a\"   \n26  \"ApplyDynamicPricePerOption\"  \"7a471a13-7922-4e7a-9667-9b2f96b44a2a\"   \n27  \"ApplyDynamicPricePerOption\"  \"7a471a13-7922-4e7a-9667-9b2f96b44a2a\"   \n28  \"ApplyDynamicPricePerOption\"  \"7a471a13-7922-4e7a-9667-9b2f96b44a2a\"   \n29  \"ApplyDynamicPricePerOption\"  \"7a471a13-7922-4e7a-9667-9b2f96b44a2a\"   \n30  \"ApplyDynamicPricePerOption\"  \"7a471a13-7922-4e7a-9667-9b2f96b44a2a\"   \n31  \"ApplyDynamicPricePerOption\"  \"7a471a13-7922-4e7a-9667-9b2f96b44a2a\"   \n32  \"ApplyDynamicPricePerOption\"  \"7cb20a39-c7f9-4c4c-9d51-94dbb8c4ff07\"   \n33  \"ApplyDynamicPricePerOption\"  \"7cb20a39-c7f9-4c4c-9d51-94dbb8c4ff07\"   \n34  \"ApplyDynamicPricePerOption\"  \"7cb20a39-c7f9-4c4c-9d51-94dbb8c4ff07\"   \n35  \"ApplyDynamicPricePerOption\"  \"7cb20a39-c7f9-4c4c-9d51-94dbb8c4ff07\"   \n36  \"ApplyDynamicPricePerOption\"  \"7cb20a39-c7f9-4c4c-9d51-94dbb8c4ff07\"   \n37  \"ApplyDynamicPricePerOption\"  \"7cb20a39-c7f9-4c4c-9d51-94dbb8c4ff07\"   \n38  \"ApplyDynamicPricePerOption\"  \"7cb20a39-c7f9-4c4c-9d51-94dbb8c4ff07\"   \n39  \"ApplyDynamicPricePerOption\"  \"7cb20a39-c7f9-4c4c-9d51-94dbb8c4ff07\"   \n40  \"ApplyDynamicPricePerOption\"  \"6dc306e7-7a6a-459a-a12c-400b4b3c9d37\"   \n41  \"ApplyDynamicPricePerOption\"  \"6dc306e7-7a6a-459a-a12c-400b4b3c9d37\"   \n42  \"ApplyDynamicPricePerOption\"  \"6dc306e7-7a6a-459a-a12c-400b4b3c9d37\"   \n43  \"ApplyDynamicPricePerOption\"  \"6dc306e7-7a6a-459a-a12c-400b4b3c9d37\"   \n44  \"ApplyDynamicPricePerOption\"  \"6dc306e7-7a6a-459a-a12c-400b4b3c9d37\"   \n45  \"ApplyDynamicPricePerOption\"  \"6dc306e7-7a6a-459a-a12c-400b4b3c9d37\"   \n46  \"ApplyDynamicPricePerOption\"  \"6dc306e7-7a6a-459a-a12c-400b4b3c9d37\"   \n47  \"ApplyDynamicPricePerOption\"  \"6dc306e7-7a6a-459a-a12c-400b4b3c9d37\"   \n48  \"ApplyDynamicPricePerOption\"  \"309e5beb-4e96-4f10-9233-e11057385c07\"   \n49  \"ApplyDynamicPricePerOption\"  \"309e5beb-4e96-4f10-9233-e11057385c07\"   \n50  \"ApplyDynamicPricePerOption\"  \"309e5beb-4e96-4f10-9233-e11057385c07\"   \n51  \"ApplyDynamicPricePerOption\"  \"309e5beb-4e96-4f10-9233-e11057385c07\"   \n52  \"ApplyDynamicPricePerOption\"  \"309e5beb-4e96-4f10-9233-e11057385c07\"   \n53  \"ApplyDynamicPricePerOption\"  \"309e5beb-4e96-4f10-9233-e11057385c07\"   \n54  \"ApplyDynamicPricePerOption\"  \"309e5beb-4e96-4f10-9233-e11057385c07\"   \n55  \"ApplyDynamicPricePerOption\"  \"309e5beb-4e96-4f10-9233-e11057385c07\"   \n\n                            UniqueOptionId  BestPrice EnqueuedTimeSP  \n0   \"b0e296a9-0590-f0e0-8211-243a2ededb12\"      92.45       18/08/21  \n1   \"d6562c24-0b37-5fb4-8275-65b7b8b47b87\"      92.45       18/08/21  \n2   \"8d0f9262-f543-d0c8-a869-33985ae3ecda\"      92.45       18/08/21  \n3   \"151e59ac-761a-96f5-d2b9-882037a9fd28\"      94.60       18/08/21  \n4   \"3cd346f4-d297-7568-2e50-d43a8e2fd0a9\"      94.60       18/08/21  \n5   \"b7a7b6d1-4dae-7392-5aaf-f3369c29db1d\"      93.00       18/08/21  \n6   \"577e4bbd-f49d-ac23-56a6-e70072a05229\"      93.00       18/08/21  \n7   \"f9b876ab-2590-952f-d69d-5b352ec251f3\"      91.35       18/08/21  \n8   \"b0e296a9-0590-f0e0-8211-243a2ededb12\"      92.45       18/08/21  \n9   \"d6562c24-0b37-5fb4-8275-65b7b8b47b87\"      92.45       18/08/21  \n10  \"8d0f9262-f543-d0c8-a869-33985ae3ecda\"      92.45       18/08/21  \n11  \"151e59ac-761a-96f5-d2b9-882037a9fd28\"      94.60       18/08/21  \n12  \"3cd346f4-d297-7568-2e50-d43a8e2fd0a9\"      94.60       18/08/21  \n13  \"b7a7b6d1-4dae-7392-5aaf-f3369c29db1d\"      93.00       18/08/21  \n14  \"577e4bbd-f49d-ac23-56a6-e70072a05229\"      93.00       18/08/21  \n15  \"f9b876ab-2590-952f-d69d-5b352ec251f3\"      91.35       18/08/21  \n16  \"b0e296a9-0590-f0e0-8211-243a2ededb12\"      92.45       18/08/21  \n17  \"d6562c24-0b37-5fb4-8275-65b7b8b47b87\"      92.45       18/08/21  \n18  \"8d0f9262-f543-d0c8-a869-33985ae3ecda\"      92.45       18/08/21  \n19  \"151e59ac-761a-96f5-d2b9-882037a9fd28\"      94.60       18/08/21  \n20  \"3cd346f4-d297-7568-2e50-d43a8e2fd0a9\"      94.60       18/08/21  \n21  \"b7a7b6d1-4dae-7392-5aaf-f3369c29db1d\"      93.00       18/08/21  \n22  \"577e4bbd-f49d-ac23-56a6-e70072a05229\"      93.00       18/08/21  \n23  \"f9b876ab-2590-952f-d69d-5b352ec251f3\"      91.35       18/08/21  \n24  \"b0e296a9-0590-f0e0-8211-243a2ededb12\"      92.45       18/08/21  \n25  \"d6562c24-0b37-5fb4-8275-65b7b8b47b87\"      92.45       18/08/21  \n26  \"8d0f9262-f543-d0c8-a869-33985ae3ecda\"      92.45       18/08/21  \n27  \"151e59ac-761a-96f5-d2b9-882037a9fd28\"      94.60       18/08/21  \n28  \"3cd346f4-d297-7568-2e50-d43a8e2fd0a9\"      94.60       18/08/21  \n29  \"b7a7b6d1-4dae-7392-5aaf-f3369c29db1d\"      93.00       18/08/21  \n30  \"577e4bbd-f49d-ac23-56a6-e70072a05229\"      93.00       18/08/21  \n31  \"f9b876ab-2590-952f-d69d-5b352ec251f3\"      91.35       18/08/21  \n32  \"9c4ec643-934f-56d1-198d-46a8adc6c405\"      93.50       18/08/21  \n33  \"d6562c24-0b37-5fb4-8275-65b7b8b47b87\"      93.50       18/08/21  \n34  \"8d0f9262-f543-d0c8-a869-33985ae3ecda\"      93.50       18/08/21  \n35  \"151e59ac-761a-96f5-d2b9-882037a9fd28\"      94.40       18/08/21  \n36  \"3cd346f4-d297-7568-2e50-d43a8e2fd0a9\"      94.40       18/08/21  \n37  \"b7a7b6d1-4dae-7392-5aaf-f3369c29db1d\"      94.40       18/08/21  \n38  \"577e4bbd-f49d-ac23-56a6-e70072a05229\"      94.40       18/08/21  \n39  \"f9b876ab-2590-952f-d69d-5b352ec251f3\"      93.95       18/08/21  \n40  \"b0e296a9-0590-f0e0-8211-243a2ededb12\"      92.45       18/08/21  \n41  \"d6562c24-0b37-5fb4-8275-65b7b8b47b87\"      92.45       18/08/21  \n42  \"8d0f9262-f543-d0c8-a869-33985ae3ecda\"      92.45       18/08/21  \n43  \"151e59ac-761a-96f5-d2b9-882037a9fd28\"      94.60       18/08/21  \n44  \"3cd346f4-d297-7568-2e50-d43a8e2fd0a9\"      94.60       18/08/21  \n45  \"b7a7b6d1-4dae-7392-5aaf-f3369c29db1d\"      93.00       18/08/21  \n46  \"577e4bbd-f49d-ac23-56a6-e70072a05229\"      93.00       18/08/21  \n47  \"f9b876ab-2590-952f-d69d-5b352ec251f3\"      91.35       18/08/21  \n48  \"b0e296a9-0590-f0e0-8211-243a2ededb12\"      92.45       18/08/21  \n49  \"d6562c24-0b37-5fb4-8275-65b7b8b47b87\"      92.45       18/08/21  \n50  \"8d0f9262-f543-d0c8-a869-33985ae3ecda\"      92.45       18/08/21  \n51  \"151e59ac-761a-96f5-d2b9-882037a9fd28\"      94.60       18/08/21  \n52  \"3cd346f4-d297-7568-2e50-d43a8e2fd0a9\"      94.60       18/08/21  \n53  \"b7a7b6d1-4dae-7392-5aaf-f3369c29db1d\"      93.00       18/08/21  \n54  \"577e4bbd-f49d-ac23-56a6-e70072a05229\"      93.00       18/08/21  \n55  \"f9b876ab-2590-952f-d69d-5b352ec251f3\"      91.35       18/08/21  ",
      "text/html": "<div>\n<style scoped>\n    .dataframe tbody tr th:only-of-type {\n        vertical-align: middle;\n    }\n\n    .dataframe tbody tr th {\n        vertical-align: top;\n    }\n\n    .dataframe thead th {\n        text-align: right;\n    }\n</style>\n<table border=\"1\" class=\"dataframe\">\n  <thead>\n    <tr style=\"text-align: right;\">\n      <th></th>\n      <th>Provider</th>\n      <th>OfferId</th>\n      <th>UniqueOptionId</th>\n      <th>BestPrice</th>\n      <th>EnqueuedTimeSP</th>\n    </tr>\n  </thead>\n  <tbody>\n    <tr>\n      <th>0</th>\n      <td>\"ApplyDynamicPricePerOption\"</td>\n      <td>\"56e0702c-0218-4626-8d3d-ae9d54b4503b\"</td>\n      <td>\"b0e296a9-0590-f0e0-8211-243a2ededb12\"</td>\n      <td>92.45</td>\n      <td>18/08/21</td>\n    </tr>\n    <tr>\n      <th>1</th>\n      <td>\"ApplyDynamicPricePerOption\"</td>\n      <td>\"56e0702c-0218-4626-8d3d-ae9d54b4503b\"</td>\n      <td>\"d6562c24-0b37-5fb4-8275-65b7b8b47b87\"</td>\n      <td>92.45</td>\n      <td>18/08/21</td>\n    </tr>\n    <tr>\n      <th>2</th>\n      <td>\"ApplyDynamicPricePerOption\"</td>\n      <td>\"56e0702c-0218-4626-8d3d-ae9d54b4503b\"</td>\n      <td>\"8d0f9262-f543-d0c8-a869-33985ae3ecda\"</td>\n      <td>92.45</td>\n      <td>18/08/21</td>\n    </tr>\n    <tr>\n      <th>3</th>\n      <td>\"ApplyDynamicPricePerOption\"</td>\n      <td>\"56e0702c-0218-4626-8d3d-ae9d54b4503b\"</td>\n      <td>\"151e59ac-761a-96f5-d2b9-882037a9fd28\"</td>\n      <td>94.60</td>\n      <td>18/08/21</td>\n    </tr>\n    <tr>\n      <th>4</th>\n      <td>\"ApplyDynamicPricePerOption\"</td>\n      <td>\"56e0702c-0218-4626-8d3d-ae9d54b4503b\"</td>\n      <td>\"3cd346f4-d297-7568-2e50-d43a8e2fd0a9\"</td>\n      <td>94.60</td>\n      <td>18/08/21</td>\n    </tr>\n    <tr>\n      <th>5</th>\n      <td>\"ApplyDynamicPricePerOption\"</td>\n      <td>\"56e0702c-0218-4626-8d3d-ae9d54b4503b\"</td>\n      <td>\"b7a7b6d1-4dae-7392-5aaf-f3369c29db1d\"</td>\n      <td>93.00</td>\n      <td>18/08/21</td>\n    </tr>\n    <tr>\n      <th>6</th>\n      <td>\"ApplyDynamicPricePerOption\"</td>\n      <td>\"56e0702c-0218-4626-8d3d-ae9d54b4503b\"</td>\n      <td>\"577e4bbd-f49d-ac23-56a6-e70072a05229\"</td>\n      <td>93.00</td>\n      <td>18/08/21</td>\n    </tr>\n    <tr>\n      <th>7</th>\n      <td>\"ApplyDynamicPricePerOption\"</td>\n      <td>\"56e0702c-0218-4626-8d3d-ae9d54b4503b\"</td>\n      <td>\"f9b876ab-2590-952f-d69d-5b352ec251f3\"</td>\n      <td>91.35</td>\n      <td>18/08/21</td>\n    </tr>\n    <tr>\n      <th>8</th>\n      <td>\"ApplyDynamicPricePerOption\"</td>\n      <td>\"00991873-194e-4a6e-89c9-8f68668b6aaa\"</td>\n      <td>\"b0e296a9-0590-f0e0-8211-243a2ededb12\"</td>\n      <td>92.45</td>\n      <td>18/08/21</td>\n    </tr>\n    <tr>\n      <th>9</th>\n      <td>\"ApplyDynamicPricePerOption\"</td>\n      <td>\"00991873-194e-4a6e-89c9-8f68668b6aaa\"</td>\n      <td>\"d6562c24-0b37-5fb4-8275-65b7b8b47b87\"</td>\n      <td>92.45</td>\n      <td>18/08/21</td>\n    </tr>\n    <tr>\n      <th>10</th>\n      <td>\"ApplyDynamicPricePerOption\"</td>\n      <td>\"00991873-194e-4a6e-89c9-8f68668b6aaa\"</td>\n      <td>\"8d0f9262-f543-d0c8-a869-33985ae3ecda\"</td>\n      <td>92.45</td>\n      <td>18/08/21</td>\n    </tr>\n    <tr>\n      <th>11</th>\n      <td>\"ApplyDynamicPricePerOption\"</td>\n      <td>\"00991873-194e-4a6e-89c9-8f68668b6aaa\"</td>\n      <td>\"151e59ac-761a-96f5-d2b9-882037a9fd28\"</td>\n      <td>94.60</td>\n      <td>18/08/21</td>\n    </tr>\n    <tr>\n      <th>12</th>\n      <td>\"ApplyDynamicPricePerOption\"</td>\n      <td>\"00991873-194e-4a6e-89c9-8f68668b6aaa\"</td>\n      <td>\"3cd346f4-d297-7568-2e50-d43a8e2fd0a9\"</td>\n      <td>94.60</td>\n      <td>18/08/21</td>\n    </tr>\n    <tr>\n      <th>13</th>\n      <td>\"ApplyDynamicPricePerOption\"</td>\n      <td>\"00991873-194e-4a6e-89c9-8f68668b6aaa\"</td>\n      <td>\"b7a7b6d1-4dae-7392-5aaf-f3369c29db1d\"</td>\n      <td>93.00</td>\n      <td>18/08/21</td>\n    </tr>\n    <tr>\n      <th>14</th>\n      <td>\"ApplyDynamicPricePerOption\"</td>\n      <td>\"00991873-194e-4a6e-89c9-8f68668b6aaa\"</td>\n      <td>\"577e4bbd-f49d-ac23-56a6-e70072a05229\"</td>\n      <td>93.00</td>\n      <td>18/08/21</td>\n    </tr>\n    <tr>\n      <th>15</th>\n      <td>\"ApplyDynamicPricePerOption\"</td>\n      <td>\"00991873-194e-4a6e-89c9-8f68668b6aaa\"</td>\n      <td>\"f9b876ab-2590-952f-d69d-5b352ec251f3\"</td>\n      <td>91.35</td>\n      <td>18/08/21</td>\n    </tr>\n    <tr>\n      <th>16</th>\n      <td>\"ApplyDynamicPricePerOption\"</td>\n      <td>\"00991873-194e-4a6e-89c9-8f68668b6aaa\"</td>\n      <td>\"b0e296a9-0590-f0e0-8211-243a2ededb12\"</td>\n      <td>92.45</td>\n      <td>18/08/21</td>\n    </tr>\n    <tr>\n      <th>17</th>\n      <td>\"ApplyDynamicPricePerOption\"</td>\n      <td>\"00991873-194e-4a6e-89c9-8f68668b6aaa\"</td>\n      <td>\"d6562c24-0b37-5fb4-8275-65b7b8b47b87\"</td>\n      <td>92.45</td>\n      <td>18/08/21</td>\n    </tr>\n    <tr>\n      <th>18</th>\n      <td>\"ApplyDynamicPricePerOption\"</td>\n      <td>\"00991873-194e-4a6e-89c9-8f68668b6aaa\"</td>\n      <td>\"8d0f9262-f543-d0c8-a869-33985ae3ecda\"</td>\n      <td>92.45</td>\n      <td>18/08/21</td>\n    </tr>\n    <tr>\n      <th>19</th>\n      <td>\"ApplyDynamicPricePerOption\"</td>\n      <td>\"00991873-194e-4a6e-89c9-8f68668b6aaa\"</td>\n      <td>\"151e59ac-761a-96f5-d2b9-882037a9fd28\"</td>\n      <td>94.60</td>\n      <td>18/08/21</td>\n    </tr>\n    <tr>\n      <th>20</th>\n      <td>\"ApplyDynamicPricePerOption\"</td>\n      <td>\"00991873-194e-4a6e-89c9-8f68668b6aaa\"</td>\n      <td>\"3cd346f4-d297-7568-2e50-d43a8e2fd0a9\"</td>\n      <td>94.60</td>\n      <td>18/08/21</td>\n    </tr>\n    <tr>\n      <th>21</th>\n      <td>\"ApplyDynamicPricePerOption\"</td>\n      <td>\"00991873-194e-4a6e-89c9-8f68668b6aaa\"</td>\n      <td>\"b7a7b6d1-4dae-7392-5aaf-f3369c29db1d\"</td>\n      <td>93.00</td>\n      <td>18/08/21</td>\n    </tr>\n    <tr>\n      <th>22</th>\n      <td>\"ApplyDynamicPricePerOption\"</td>\n      <td>\"00991873-194e-4a6e-89c9-8f68668b6aaa\"</td>\n      <td>\"577e4bbd-f49d-ac23-56a6-e70072a05229\"</td>\n      <td>93.00</td>\n      <td>18/08/21</td>\n    </tr>\n    <tr>\n      <th>23</th>\n      <td>\"ApplyDynamicPricePerOption\"</td>\n      <td>\"00991873-194e-4a6e-89c9-8f68668b6aaa\"</td>\n      <td>\"f9b876ab-2590-952f-d69d-5b352ec251f3\"</td>\n      <td>91.35</td>\n      <td>18/08/21</td>\n    </tr>\n    <tr>\n      <th>24</th>\n      <td>\"ApplyDynamicPricePerOption\"</td>\n      <td>\"7a471a13-7922-4e7a-9667-9b2f96b44a2a\"</td>\n      <td>\"b0e296a9-0590-f0e0-8211-243a2ededb12\"</td>\n      <td>92.45</td>\n      <td>18/08/21</td>\n    </tr>\n    <tr>\n      <th>25</th>\n      <td>\"ApplyDynamicPricePerOption\"</td>\n      <td>\"7a471a13-7922-4e7a-9667-9b2f96b44a2a\"</td>\n      <td>\"d6562c24-0b37-5fb4-8275-65b7b8b47b87\"</td>\n      <td>92.45</td>\n      <td>18/08/21</td>\n    </tr>\n    <tr>\n      <th>26</th>\n      <td>\"ApplyDynamicPricePerOption\"</td>\n      <td>\"7a471a13-7922-4e7a-9667-9b2f96b44a2a\"</td>\n      <td>\"8d0f9262-f543-d0c8-a869-33985ae3ecda\"</td>\n      <td>92.45</td>\n      <td>18/08/21</td>\n    </tr>\n    <tr>\n      <th>27</th>\n      <td>\"ApplyDynamicPricePerOption\"</td>\n      <td>\"7a471a13-7922-4e7a-9667-9b2f96b44a2a\"</td>\n      <td>\"151e59ac-761a-96f5-d2b9-882037a9fd28\"</td>\n      <td>94.60</td>\n      <td>18/08/21</td>\n    </tr>\n    <tr>\n      <th>28</th>\n      <td>\"ApplyDynamicPricePerOption\"</td>\n      <td>\"7a471a13-7922-4e7a-9667-9b2f96b44a2a\"</td>\n      <td>\"3cd346f4-d297-7568-2e50-d43a8e2fd0a9\"</td>\n      <td>94.60</td>\n      <td>18/08/21</td>\n    </tr>\n    <tr>\n      <th>29</th>\n      <td>\"ApplyDynamicPricePerOption\"</td>\n      <td>\"7a471a13-7922-4e7a-9667-9b2f96b44a2a\"</td>\n      <td>\"b7a7b6d1-4dae-7392-5aaf-f3369c29db1d\"</td>\n      <td>93.00</td>\n      <td>18/08/21</td>\n    </tr>\n    <tr>\n      <th>30</th>\n      <td>\"ApplyDynamicPricePerOption\"</td>\n      <td>\"7a471a13-7922-4e7a-9667-9b2f96b44a2a\"</td>\n      <td>\"577e4bbd-f49d-ac23-56a6-e70072a05229\"</td>\n      <td>93.00</td>\n      <td>18/08/21</td>\n    </tr>\n    <tr>\n      <th>31</th>\n      <td>\"ApplyDynamicPricePerOption\"</td>\n      <td>\"7a471a13-7922-4e7a-9667-9b2f96b44a2a\"</td>\n      <td>\"f9b876ab-2590-952f-d69d-5b352ec251f3\"</td>\n      <td>91.35</td>\n      <td>18/08/21</td>\n    </tr>\n    <tr>\n      <th>32</th>\n      <td>\"ApplyDynamicPricePerOption\"</td>\n      <td>\"7cb20a39-c7f9-4c4c-9d51-94dbb8c4ff07\"</td>\n      <td>\"9c4ec643-934f-56d1-198d-46a8adc6c405\"</td>\n      <td>93.50</td>\n      <td>18/08/21</td>\n    </tr>\n    <tr>\n      <th>33</th>\n      <td>\"ApplyDynamicPricePerOption\"</td>\n      <td>\"7cb20a39-c7f9-4c4c-9d51-94dbb8c4ff07\"</td>\n      <td>\"d6562c24-0b37-5fb4-8275-65b7b8b47b87\"</td>\n      <td>93.50</td>\n      <td>18/08/21</td>\n    </tr>\n    <tr>\n      <th>34</th>\n      <td>\"ApplyDynamicPricePerOption\"</td>\n      <td>\"7cb20a39-c7f9-4c4c-9d51-94dbb8c4ff07\"</td>\n      <td>\"8d0f9262-f543-d0c8-a869-33985ae3ecda\"</td>\n      <td>93.50</td>\n      <td>18/08/21</td>\n    </tr>\n    <tr>\n      <th>35</th>\n      <td>\"ApplyDynamicPricePerOption\"</td>\n      <td>\"7cb20a39-c7f9-4c4c-9d51-94dbb8c4ff07\"</td>\n      <td>\"151e59ac-761a-96f5-d2b9-882037a9fd28\"</td>\n      <td>94.40</td>\n      <td>18/08/21</td>\n    </tr>\n    <tr>\n      <th>36</th>\n      <td>\"ApplyDynamicPricePerOption\"</td>\n      <td>\"7cb20a39-c7f9-4c4c-9d51-94dbb8c4ff07\"</td>\n      <td>\"3cd346f4-d297-7568-2e50-d43a8e2fd0a9\"</td>\n      <td>94.40</td>\n      <td>18/08/21</td>\n    </tr>\n    <tr>\n      <th>37</th>\n      <td>\"ApplyDynamicPricePerOption\"</td>\n      <td>\"7cb20a39-c7f9-4c4c-9d51-94dbb8c4ff07\"</td>\n      <td>\"b7a7b6d1-4dae-7392-5aaf-f3369c29db1d\"</td>\n      <td>94.40</td>\n      <td>18/08/21</td>\n    </tr>\n    <tr>\n      <th>38</th>\n      <td>\"ApplyDynamicPricePerOption\"</td>\n      <td>\"7cb20a39-c7f9-4c4c-9d51-94dbb8c4ff07\"</td>\n      <td>\"577e4bbd-f49d-ac23-56a6-e70072a05229\"</td>\n      <td>94.40</td>\n      <td>18/08/21</td>\n    </tr>\n    <tr>\n      <th>39</th>\n      <td>\"ApplyDynamicPricePerOption\"</td>\n      <td>\"7cb20a39-c7f9-4c4c-9d51-94dbb8c4ff07\"</td>\n      <td>\"f9b876ab-2590-952f-d69d-5b352ec251f3\"</td>\n      <td>93.95</td>\n      <td>18/08/21</td>\n    </tr>\n    <tr>\n      <th>40</th>\n      <td>\"ApplyDynamicPricePerOption\"</td>\n      <td>\"6dc306e7-7a6a-459a-a12c-400b4b3c9d37\"</td>\n      <td>\"b0e296a9-0590-f0e0-8211-243a2ededb12\"</td>\n      <td>92.45</td>\n      <td>18/08/21</td>\n    </tr>\n    <tr>\n      <th>41</th>\n      <td>\"ApplyDynamicPricePerOption\"</td>\n      <td>\"6dc306e7-7a6a-459a-a12c-400b4b3c9d37\"</td>\n      <td>\"d6562c24-0b37-5fb4-8275-65b7b8b47b87\"</td>\n      <td>92.45</td>\n      <td>18/08/21</td>\n    </tr>\n    <tr>\n      <th>42</th>\n      <td>\"ApplyDynamicPricePerOption\"</td>\n      <td>\"6dc306e7-7a6a-459a-a12c-400b4b3c9d37\"</td>\n      <td>\"8d0f9262-f543-d0c8-a869-33985ae3ecda\"</td>\n      <td>92.45</td>\n      <td>18/08/21</td>\n    </tr>\n    <tr>\n      <th>43</th>\n      <td>\"ApplyDynamicPricePerOption\"</td>\n      <td>\"6dc306e7-7a6a-459a-a12c-400b4b3c9d37\"</td>\n      <td>\"151e59ac-761a-96f5-d2b9-882037a9fd28\"</td>\n      <td>94.60</td>\n      <td>18/08/21</td>\n    </tr>\n    <tr>\n      <th>44</th>\n      <td>\"ApplyDynamicPricePerOption\"</td>\n      <td>\"6dc306e7-7a6a-459a-a12c-400b4b3c9d37\"</td>\n      <td>\"3cd346f4-d297-7568-2e50-d43a8e2fd0a9\"</td>\n      <td>94.60</td>\n      <td>18/08/21</td>\n    </tr>\n    <tr>\n      <th>45</th>\n      <td>\"ApplyDynamicPricePerOption\"</td>\n      <td>\"6dc306e7-7a6a-459a-a12c-400b4b3c9d37\"</td>\n      <td>\"b7a7b6d1-4dae-7392-5aaf-f3369c29db1d\"</td>\n      <td>93.00</td>\n      <td>18/08/21</td>\n    </tr>\n    <tr>\n      <th>46</th>\n      <td>\"ApplyDynamicPricePerOption\"</td>\n      <td>\"6dc306e7-7a6a-459a-a12c-400b4b3c9d37\"</td>\n      <td>\"577e4bbd-f49d-ac23-56a6-e70072a05229\"</td>\n      <td>93.00</td>\n      <td>18/08/21</td>\n    </tr>\n    <tr>\n      <th>47</th>\n      <td>\"ApplyDynamicPricePerOption\"</td>\n      <td>\"6dc306e7-7a6a-459a-a12c-400b4b3c9d37\"</td>\n      <td>\"f9b876ab-2590-952f-d69d-5b352ec251f3\"</td>\n      <td>91.35</td>\n      <td>18/08/21</td>\n    </tr>\n    <tr>\n      <th>48</th>\n      <td>\"ApplyDynamicPricePerOption\"</td>\n      <td>\"309e5beb-4e96-4f10-9233-e11057385c07\"</td>\n      <td>\"b0e296a9-0590-f0e0-8211-243a2ededb12\"</td>\n      <td>92.45</td>\n      <td>18/08/21</td>\n    </tr>\n    <tr>\n      <th>49</th>\n      <td>\"ApplyDynamicPricePerOption\"</td>\n      <td>\"309e5beb-4e96-4f10-9233-e11057385c07\"</td>\n      <td>\"d6562c24-0b37-5fb4-8275-65b7b8b47b87\"</td>\n      <td>92.45</td>\n      <td>18/08/21</td>\n    </tr>\n    <tr>\n      <th>50</th>\n      <td>\"ApplyDynamicPricePerOption\"</td>\n      <td>\"309e5beb-4e96-4f10-9233-e11057385c07\"</td>\n      <td>\"8d0f9262-f543-d0c8-a869-33985ae3ecda\"</td>\n      <td>92.45</td>\n      <td>18/08/21</td>\n    </tr>\n    <tr>\n      <th>51</th>\n      <td>\"ApplyDynamicPricePerOption\"</td>\n      <td>\"309e5beb-4e96-4f10-9233-e11057385c07\"</td>\n      <td>\"151e59ac-761a-96f5-d2b9-882037a9fd28\"</td>\n      <td>94.60</td>\n      <td>18/08/21</td>\n    </tr>\n    <tr>\n      <th>52</th>\n      <td>\"ApplyDynamicPricePerOption\"</td>\n      <td>\"309e5beb-4e96-4f10-9233-e11057385c07\"</td>\n      <td>\"3cd346f4-d297-7568-2e50-d43a8e2fd0a9\"</td>\n      <td>94.60</td>\n      <td>18/08/21</td>\n    </tr>\n    <tr>\n      <th>53</th>\n      <td>\"ApplyDynamicPricePerOption\"</td>\n      <td>\"309e5beb-4e96-4f10-9233-e11057385c07\"</td>\n      <td>\"b7a7b6d1-4dae-7392-5aaf-f3369c29db1d\"</td>\n      <td>93.00</td>\n      <td>18/08/21</td>\n    </tr>\n    <tr>\n      <th>54</th>\n      <td>\"ApplyDynamicPricePerOption\"</td>\n      <td>\"309e5beb-4e96-4f10-9233-e11057385c07\"</td>\n      <td>\"577e4bbd-f49d-ac23-56a6-e70072a05229\"</td>\n      <td>93.00</td>\n      <td>18/08/21</td>\n    </tr>\n    <tr>\n      <th>55</th>\n      <td>\"ApplyDynamicPricePerOption\"</td>\n      <td>\"309e5beb-4e96-4f10-9233-e11057385c07\"</td>\n      <td>\"f9b876ab-2590-952f-d69d-5b352ec251f3\"</td>\n      <td>91.35</td>\n      <td>18/08/21</td>\n    </tr>\n  </tbody>\n</table>\n</div>"
     },
     "execution_count": 10,
     "metadata": {},
     "output_type": "execute_result"
    }
   ],
   "source": [
    "def dynamic_price_option(row):\n",
    "    \"\"\"Transform the JSON payload into a dynamic price option dataframe.\"\"\"\n",
    "    enqueued_time = row[\"EnqueuedTimeUtc\"].to_pydatetime().strftime(\"%d/%m/%y\")\n",
    "    payload_row = row[\"Payload\"]\n",
    "    payload_row = json.loads(payload_row)\n",
    "    result = []\n",
    "    if payload_row[\"provider\"] == \"ApplyDynamicPricePerOption\":\n",
    "        provider = f\"\\\"{payload_row['provider']}\\\"\"\n",
    "        offer_id = f\"\\\"{payload_row['offerId']}\\\"\"\n",
    "        for unique_option in payload_row[\"algorithmOutput\"]:\n",
    "            price_option = {\n",
    "                \"Provider\": provider,\n",
    "                \"OfferId\": offer_id,\n",
    "                \"UniqueOptionId\": f\"\\\"{unique_option['uniqueOptionId']}\\\"\",\n",
    "                \"BestPrice\": unique_option[\"bestPrice\"],\n",
    "                \"EnqueuedTimeSP\": enqueued_time\n",
    "            }\n",
    "            result.append(price_option)\n",
    "    return result\n",
    "\n",
    "lst = DynamicPrice_Result.apply(dynamic_price_option, axis=1)\n",
    "flatten = [x for xs in lst for x in xs]\n",
    "dynamic_price_option_payload = pd.DataFrame(flatten)\n",
    "dynamic_price_option_payload"
   ]
  },
  {
   "cell_type": "code",
   "execution_count": 29,
   "metadata": {},
   "outputs": [
    {
     "data": {
      "text/plain": "                  provider                               offerId  MinGlobal  \\\n0   ApplyDynamicPriceRange  a6611d55-9624-4381-8cdd-323ee3689241      85.00   \n1   ApplyDynamicPriceRange  b8c636fa-8241-47dc-ac40-bdf438a04d9c      85.00   \n2   ApplyDynamicPriceRange  3d32f7fb-396d-4d3f-b673-dea1f7dc41b7      85.00   \n3   ApplyDynamicPriceRange  329194f3-95a4-45ef-b3d0-2796f74ce2a0      85.00   \n4   ApplyDynamicPriceRange  fdcfde5c-113d-4a59-9ae0-8bc31e2943d8      87.35   \n5   ApplyDynamicPriceRange  27bbc4fa-2388-4780-b66c-92a51397d191      87.35   \n6   ApplyDynamicPriceRange  baffc30b-7642-45fe-a2ce-da31a71732ae      85.00   \n7   ApplyDynamicPriceRange  b5982abd-f602-47ac-b45a-bb43bf993d46      85.00   \n8   ApplyDynamicPriceRange  f6643886-4a0f-45ae-ae32-ee95c72ee94a      87.35   \n9   ApplyDynamicPriceRange  16a2d492-b1c3-40ec-970f-b8704d8db96f      85.00   \n10  ApplyDynamicPriceRange  e94cf567-d77a-4874-9663-0b49d19f604c      85.00   \n11  ApplyDynamicPriceRange  57a52d66-93fb-40a4-b44a-662d439ce070      85.00   \n12  ApplyDynamicPriceRange  0474ba06-1a1e-4ebe-934f-b416dd0c9313      87.35   \n13  ApplyDynamicPriceRange  a48a4485-1add-468e-9f20-5b3659498b82      85.00   \n14  ApplyDynamicPriceRange  d7739a03-c1f8-46db-971f-1a9af3dd88d9      87.35   \n15  ApplyDynamicPriceRange  4e44bf19-62ff-4d6e-8ce6-f4de80bb027d      85.00   \n16  ApplyDynamicPriceRange  3da3a438-3fd3-432a-a778-e0a2d815f831      87.35   \n17  ApplyDynamicPriceRange  bc8a4008-eef4-4059-8264-a078f618f3bd      85.00   \n18  ApplyDynamicPriceRange  36d3b55c-a449-4ab3-9b49-849d158038da      85.00   \n19  ApplyDynamicPriceRange  5ebc735e-7445-4d17-aeca-b56d8d04a51a      85.00   \n20  ApplyDynamicPriceRange  31cc86f1-881b-4b89-838e-bffdcfded61e      85.00   \n21  ApplyDynamicPriceRange  7e7f25c6-6352-40d0-bd1e-1dd4e8a5c222      85.00   \n22  ApplyDynamicPriceRange  c0b7cf25-62d1-4f3d-be18-3825c316ed8d      85.00   \n23  ApplyDynamicPriceRange  de8394da-020c-422a-890a-0d77a5f8359a      85.00   \n24  ApplyDynamicPriceRange  92269c83-9103-4ea3-b93b-ae2f1762f720      85.00   \n\n    MinRecommended  MaxRecommended  DifferenceMinRecommendMinTheory  \\\n0            87.20           97.65                              2.2   \n1            87.20           97.65                              2.2   \n2            87.20           97.65                              2.2   \n3            87.20           97.65                              2.2   \n4            89.25           99.95                              1.9   \n5            89.25           99.95                              1.9   \n6            87.20           97.65                              2.2   \n7            87.20           97.65                              2.2   \n8            89.25           99.95                              1.9   \n9            87.20           97.65                              2.2   \n10           87.20           97.65                              2.2   \n11           87.20           97.65                              2.2   \n12           89.25           99.95                              1.9   \n13           87.20           97.65                              2.2   \n14           89.25           99.95                              1.9   \n15           87.20           97.65                              2.2   \n16           89.25           99.95                              1.9   \n17           87.20           97.65                              2.2   \n18           87.20           97.65                              2.2   \n19           87.20           97.65                              2.2   \n20           87.20           97.65                              2.2   \n21           87.20           97.65                              2.2   \n22           87.20           97.65                              2.2   \n23           87.20           97.65                              2.2   \n24           87.20           97.65                              2.2   \n\n   EnqueuedTimeSP  \n0        05/09/21  \n1        05/09/21  \n2        05/09/21  \n3        05/09/21  \n4        05/09/21  \n5        05/09/21  \n6        05/09/21  \n7        05/09/21  \n8        05/09/21  \n9        05/09/21  \n10       05/09/21  \n11       05/09/21  \n12       05/09/21  \n13       05/09/21  \n14       05/09/21  \n15       05/09/21  \n16       05/09/21  \n17       05/09/21  \n18       05/09/21  \n19       05/09/21  \n20       05/09/21  \n21       05/09/21  \n22       05/09/21  \n23       05/09/21  \n24       05/09/21  ",
      "text/html": "<div>\n<style scoped>\n    .dataframe tbody tr th:only-of-type {\n        vertical-align: middle;\n    }\n\n    .dataframe tbody tr th {\n        vertical-align: top;\n    }\n\n    .dataframe thead th {\n        text-align: right;\n    }\n</style>\n<table border=\"1\" class=\"dataframe\">\n  <thead>\n    <tr style=\"text-align: right;\">\n      <th></th>\n      <th>provider</th>\n      <th>offerId</th>\n      <th>MinGlobal</th>\n      <th>MinRecommended</th>\n      <th>MaxRecommended</th>\n      <th>DifferenceMinRecommendMinTheory</th>\n      <th>EnqueuedTimeSP</th>\n    </tr>\n  </thead>\n  <tbody>\n    <tr>\n      <th>0</th>\n      <td>ApplyDynamicPriceRange</td>\n      <td>a6611d55-9624-4381-8cdd-323ee3689241</td>\n      <td>85.00</td>\n      <td>87.20</td>\n      <td>97.65</td>\n      <td>2.2</td>\n      <td>05/09/21</td>\n    </tr>\n    <tr>\n      <th>1</th>\n      <td>ApplyDynamicPriceRange</td>\n      <td>b8c636fa-8241-47dc-ac40-bdf438a04d9c</td>\n      <td>85.00</td>\n      <td>87.20</td>\n      <td>97.65</td>\n      <td>2.2</td>\n      <td>05/09/21</td>\n    </tr>\n    <tr>\n      <th>2</th>\n      <td>ApplyDynamicPriceRange</td>\n      <td>3d32f7fb-396d-4d3f-b673-dea1f7dc41b7</td>\n      <td>85.00</td>\n      <td>87.20</td>\n      <td>97.65</td>\n      <td>2.2</td>\n      <td>05/09/21</td>\n    </tr>\n    <tr>\n      <th>3</th>\n      <td>ApplyDynamicPriceRange</td>\n      <td>329194f3-95a4-45ef-b3d0-2796f74ce2a0</td>\n      <td>85.00</td>\n      <td>87.20</td>\n      <td>97.65</td>\n      <td>2.2</td>\n      <td>05/09/21</td>\n    </tr>\n    <tr>\n      <th>4</th>\n      <td>ApplyDynamicPriceRange</td>\n      <td>fdcfde5c-113d-4a59-9ae0-8bc31e2943d8</td>\n      <td>87.35</td>\n      <td>89.25</td>\n      <td>99.95</td>\n      <td>1.9</td>\n      <td>05/09/21</td>\n    </tr>\n    <tr>\n      <th>5</th>\n      <td>ApplyDynamicPriceRange</td>\n      <td>27bbc4fa-2388-4780-b66c-92a51397d191</td>\n      <td>87.35</td>\n      <td>89.25</td>\n      <td>99.95</td>\n      <td>1.9</td>\n      <td>05/09/21</td>\n    </tr>\n    <tr>\n      <th>6</th>\n      <td>ApplyDynamicPriceRange</td>\n      <td>baffc30b-7642-45fe-a2ce-da31a71732ae</td>\n      <td>85.00</td>\n      <td>87.20</td>\n      <td>97.65</td>\n      <td>2.2</td>\n      <td>05/09/21</td>\n    </tr>\n    <tr>\n      <th>7</th>\n      <td>ApplyDynamicPriceRange</td>\n      <td>b5982abd-f602-47ac-b45a-bb43bf993d46</td>\n      <td>85.00</td>\n      <td>87.20</td>\n      <td>97.65</td>\n      <td>2.2</td>\n      <td>05/09/21</td>\n    </tr>\n    <tr>\n      <th>8</th>\n      <td>ApplyDynamicPriceRange</td>\n      <td>f6643886-4a0f-45ae-ae32-ee95c72ee94a</td>\n      <td>87.35</td>\n      <td>89.25</td>\n      <td>99.95</td>\n      <td>1.9</td>\n      <td>05/09/21</td>\n    </tr>\n    <tr>\n      <th>9</th>\n      <td>ApplyDynamicPriceRange</td>\n      <td>16a2d492-b1c3-40ec-970f-b8704d8db96f</td>\n      <td>85.00</td>\n      <td>87.20</td>\n      <td>97.65</td>\n      <td>2.2</td>\n      <td>05/09/21</td>\n    </tr>\n    <tr>\n      <th>10</th>\n      <td>ApplyDynamicPriceRange</td>\n      <td>e94cf567-d77a-4874-9663-0b49d19f604c</td>\n      <td>85.00</td>\n      <td>87.20</td>\n      <td>97.65</td>\n      <td>2.2</td>\n      <td>05/09/21</td>\n    </tr>\n    <tr>\n      <th>11</th>\n      <td>ApplyDynamicPriceRange</td>\n      <td>57a52d66-93fb-40a4-b44a-662d439ce070</td>\n      <td>85.00</td>\n      <td>87.20</td>\n      <td>97.65</td>\n      <td>2.2</td>\n      <td>05/09/21</td>\n    </tr>\n    <tr>\n      <th>12</th>\n      <td>ApplyDynamicPriceRange</td>\n      <td>0474ba06-1a1e-4ebe-934f-b416dd0c9313</td>\n      <td>87.35</td>\n      <td>89.25</td>\n      <td>99.95</td>\n      <td>1.9</td>\n      <td>05/09/21</td>\n    </tr>\n    <tr>\n      <th>13</th>\n      <td>ApplyDynamicPriceRange</td>\n      <td>a48a4485-1add-468e-9f20-5b3659498b82</td>\n      <td>85.00</td>\n      <td>87.20</td>\n      <td>97.65</td>\n      <td>2.2</td>\n      <td>05/09/21</td>\n    </tr>\n    <tr>\n      <th>14</th>\n      <td>ApplyDynamicPriceRange</td>\n      <td>d7739a03-c1f8-46db-971f-1a9af3dd88d9</td>\n      <td>87.35</td>\n      <td>89.25</td>\n      <td>99.95</td>\n      <td>1.9</td>\n      <td>05/09/21</td>\n    </tr>\n    <tr>\n      <th>15</th>\n      <td>ApplyDynamicPriceRange</td>\n      <td>4e44bf19-62ff-4d6e-8ce6-f4de80bb027d</td>\n      <td>85.00</td>\n      <td>87.20</td>\n      <td>97.65</td>\n      <td>2.2</td>\n      <td>05/09/21</td>\n    </tr>\n    <tr>\n      <th>16</th>\n      <td>ApplyDynamicPriceRange</td>\n      <td>3da3a438-3fd3-432a-a778-e0a2d815f831</td>\n      <td>87.35</td>\n      <td>89.25</td>\n      <td>99.95</td>\n      <td>1.9</td>\n      <td>05/09/21</td>\n    </tr>\n    <tr>\n      <th>17</th>\n      <td>ApplyDynamicPriceRange</td>\n      <td>bc8a4008-eef4-4059-8264-a078f618f3bd</td>\n      <td>85.00</td>\n      <td>87.20</td>\n      <td>97.65</td>\n      <td>2.2</td>\n      <td>05/09/21</td>\n    </tr>\n    <tr>\n      <th>18</th>\n      <td>ApplyDynamicPriceRange</td>\n      <td>36d3b55c-a449-4ab3-9b49-849d158038da</td>\n      <td>85.00</td>\n      <td>87.20</td>\n      <td>97.65</td>\n      <td>2.2</td>\n      <td>05/09/21</td>\n    </tr>\n    <tr>\n      <th>19</th>\n      <td>ApplyDynamicPriceRange</td>\n      <td>5ebc735e-7445-4d17-aeca-b56d8d04a51a</td>\n      <td>85.00</td>\n      <td>87.20</td>\n      <td>97.65</td>\n      <td>2.2</td>\n      <td>05/09/21</td>\n    </tr>\n    <tr>\n      <th>20</th>\n      <td>ApplyDynamicPriceRange</td>\n      <td>31cc86f1-881b-4b89-838e-bffdcfded61e</td>\n      <td>85.00</td>\n      <td>87.20</td>\n      <td>97.65</td>\n      <td>2.2</td>\n      <td>05/09/21</td>\n    </tr>\n    <tr>\n      <th>21</th>\n      <td>ApplyDynamicPriceRange</td>\n      <td>7e7f25c6-6352-40d0-bd1e-1dd4e8a5c222</td>\n      <td>85.00</td>\n      <td>87.20</td>\n      <td>97.65</td>\n      <td>2.2</td>\n      <td>05/09/21</td>\n    </tr>\n    <tr>\n      <th>22</th>\n      <td>ApplyDynamicPriceRange</td>\n      <td>c0b7cf25-62d1-4f3d-be18-3825c316ed8d</td>\n      <td>85.00</td>\n      <td>87.20</td>\n      <td>97.65</td>\n      <td>2.2</td>\n      <td>05/09/21</td>\n    </tr>\n    <tr>\n      <th>23</th>\n      <td>ApplyDynamicPriceRange</td>\n      <td>de8394da-020c-422a-890a-0d77a5f8359a</td>\n      <td>85.00</td>\n      <td>87.20</td>\n      <td>97.65</td>\n      <td>2.2</td>\n      <td>05/09/21</td>\n    </tr>\n    <tr>\n      <th>24</th>\n      <td>ApplyDynamicPriceRange</td>\n      <td>92269c83-9103-4ea3-b93b-ae2f1762f720</td>\n      <td>85.00</td>\n      <td>87.20</td>\n      <td>97.65</td>\n      <td>2.2</td>\n      <td>05/09/21</td>\n    </tr>\n  </tbody>\n</table>\n</div>"
     },
     "execution_count": 29,
     "metadata": {},
     "output_type": "execute_result"
    }
   ],
   "source": [
    "def dynamic_price_range(row):\n",
    "    EnqueuedTimeSP = row[\"EnqueuedTimeUtc\"].to_pydatetime().strftime(\"%d/%m/%y\")\n",
    "    payload_row = row['Payload']\n",
    "    payload_row = json.loads(payload_row)\n",
    "    result = []\n",
    "    # payload_row\n",
    "    if payload_row['provider'] == 'ApplyDynamicPriceRange':\n",
    "        provider = payload_row['provider']\n",
    "        offerId = payload_row['offerId']\n",
    "        unique_option  = payload_row['algorithmOutput']\n",
    "        price_range = {\n",
    "                \"provider\" : provider,\n",
    "                \"offerId\" : offerId,\n",
    "                \"MinGlobal\" : unique_option['min_global'],\n",
    "                \"MinRecommended\": unique_option['min_recommended'],\n",
    "                \"MaxRecommended\": unique_option['max_recommended'],\n",
    "                \"DifferenceMinRecommendMinTheory\": unique_option['differenceMinRecommendMinTheory'],\n",
    "                \"EnqueuedTimeSP\": EnqueuedTimeSP\n",
    "            }\n",
    "        result.append(price_range)\n",
    "    return result\n",
    "\n",
    "lst = DynamicPrice_Result.apply(dynamic_price_range, axis=1)\n",
    "flatten = [x for xs in lst for x in xs]\n",
    "dynamic_price_range_payload = pd.DataFrame(flatten)\n",
    "dynamic_price_range_payload\n",
    "\n"
   ]
  },
  {
   "cell_type": "code",
   "execution_count": 43,
   "outputs": [
    {
     "data": {
      "text/plain": "   CurationProvider                               OfferId DealerId  \\\n0           ByPrice  c99aa9a7-ac50-4a10-be0f-ac9f5ac0f45d     6517   \n1           ByPrice  c99aa9a7-ac50-4a10-be0f-ac9f5ac0f45d     9047   \n2           ByPrice  c99aa9a7-ac50-4a10-be0f-ac9f5ac0f45d     8330   \n3           ByPrice  c99aa9a7-ac50-4a10-be0f-ac9f5ac0f45d     8835   \n4           ByPrice  c99aa9a7-ac50-4a10-be0f-ac9f5ac0f45d     6517   \n5           ByPrice  c99aa9a7-ac50-4a10-be0f-ac9f5ac0f45d     9047   \n6           ByPrice  c99aa9a7-ac50-4a10-be0f-ac9f5ac0f45d     8330   \n7           ByPrice  c99aa9a7-ac50-4a10-be0f-ac9f5ac0f45d     8835   \n8           ByPrice  c99aa9a7-ac50-4a10-be0f-ac9f5ac0f45d     6517   \n9           ByPrice  c99aa9a7-ac50-4a10-be0f-ac9f5ac0f45d     9047   \n10          ByPrice  c99aa9a7-ac50-4a10-be0f-ac9f5ac0f45d     8330   \n11          ByPrice  c99aa9a7-ac50-4a10-be0f-ac9f5ac0f45d     8835   \n12          ByPrice  c99aa9a7-ac50-4a10-be0f-ac9f5ac0f45d     6517   \n13          ByPrice  c99aa9a7-ac50-4a10-be0f-ac9f5ac0f45d     9047   \n14          ByPrice  c99aa9a7-ac50-4a10-be0f-ac9f5ac0f45d     8330   \n15          ByPrice  c99aa9a7-ac50-4a10-be0f-ac9f5ac0f45d     8835   \n16          ByPrice  c99aa9a7-ac50-4a10-be0f-ac9f5ac0f45d     6517   \n17          ByPrice  c99aa9a7-ac50-4a10-be0f-ac9f5ac0f45d     9047   \n18          ByPrice  c99aa9a7-ac50-4a10-be0f-ac9f5ac0f45d     8330   \n19          ByPrice  c99aa9a7-ac50-4a10-be0f-ac9f5ac0f45d     8835   \n\n                          UniqueOptionId                     OptionId  \\\n0   d6562c24-0b37-5fb4-8275-65b7b8b47b87                 6517 || 6517   \n1   f9b876ab-2590-952f-d69d-5b352ec251f3  9047 || 9047 || NACIONALGAS   \n2   151e59ac-761a-96f5-d2b9-882037a9fd28     8330 || 8330 || CONSIGAZ   \n3   b7a7b6d1-4dae-7392-5aaf-f3369c29db1d     8835 || 8835 || LIQUIGAS   \n4   d6562c24-0b37-5fb4-8275-65b7b8b47b87                 6517 || 6517   \n5   f9b876ab-2590-952f-d69d-5b352ec251f3  9047 || 9047 || NACIONALGAS   \n6   151e59ac-761a-96f5-d2b9-882037a9fd28     8330 || 8330 || CONSIGAZ   \n7   b7a7b6d1-4dae-7392-5aaf-f3369c29db1d     8835 || 8835 || LIQUIGAS   \n8   d6562c24-0b37-5fb4-8275-65b7b8b47b87                 6517 || 6517   \n9   f9b876ab-2590-952f-d69d-5b352ec251f3  9047 || 9047 || NACIONALGAS   \n10  151e59ac-761a-96f5-d2b9-882037a9fd28     8330 || 8330 || CONSIGAZ   \n11  b7a7b6d1-4dae-7392-5aaf-f3369c29db1d     8835 || 8835 || LIQUIGAS   \n12  d6562c24-0b37-5fb4-8275-65b7b8b47b87                 6517 || 6517   \n13  f9b876ab-2590-952f-d69d-5b352ec251f3  9047 || 9047 || NACIONALGAS   \n14  151e59ac-761a-96f5-d2b9-882037a9fd28     8330 || 8330 || CONSIGAZ   \n15  b7a7b6d1-4dae-7392-5aaf-f3369c29db1d     8835 || 8835 || LIQUIGAS   \n16  d6562c24-0b37-5fb4-8275-65b7b8b47b87                 6517 || 6517   \n17  f9b876ab-2590-952f-d69d-5b352ec251f3  9047 || 9047 || NACIONALGAS   \n18  151e59ac-761a-96f5-d2b9-882037a9fd28     8330 || 8330 || CONSIGAZ   \n19  b7a7b6d1-4dae-7392-5aaf-f3369c29db1d     8835 || 8835 || LIQUIGAS   \n\n    IsMobileDealer  IsOpen   Eta  ChamaScore ProductBrand  IsWinner  \\\n0            False    True  0:01         8.0     ULTRAGAZ     False   \n1            False   False  1:00         9.0  NACIONALGAS      True   \n2            False    True  0:01         8.0     CONSIGAZ      True   \n3            False   False  0:01         8.0     LIQUIGAS      True   \n4            False    True  0:01         8.0     ULTRAGAZ     False   \n5            False   False  1:00         9.0  NACIONALGAS      True   \n6            False    True  0:01         8.0     CONSIGAZ      True   \n7            False   False  0:01         8.0     LIQUIGAS      True   \n8            False    True  0:01         8.0     ULTRAGAZ     False   \n9            False   False  1:00         9.0  NACIONALGAS      True   \n10           False    True  0:01         8.0     CONSIGAZ      True   \n11           False   False  0:01         8.0     LIQUIGAS      True   \n12           False    True  0:01         8.0     ULTRAGAZ     False   \n13           False   False  1:00         9.0  NACIONALGAS      True   \n14           False    True  0:01         8.0     CONSIGAZ      True   \n15           False   False  0:01         8.0     LIQUIGAS      True   \n16           False    True  0:01         8.0     ULTRAGAZ     False   \n17           False   False  1:00         9.0  NACIONALGAS      True   \n18           False    True  0:01         8.0     CONSIGAZ      True   \n19           False   False  0:01         8.0     LIQUIGAS      True   \n\n    MinimumPrice  MaximumPrice  DynamicPrice  FinalPrice DefeatPrimaryReason  \\\n0           90.0         180.0         91.90       91.90    HasDriverInOffer   \n1           88.9         177.8         90.80       90.80                  \"\"   \n2           80.0         160.0         87.35       87.35                  \"\"   \n3           60.0         120.0         87.35       87.35                  \"\"   \n4           90.0         180.0         91.90       91.90    HasDriverInOffer   \n5           88.9         177.8         90.80       90.80                  \"\"   \n6           80.0         160.0         87.35       87.35                  \"\"   \n7           60.0         120.0         87.35       87.35                  \"\"   \n8           90.0         180.0         91.90       91.90    HasDriverInOffer   \n9           88.9         177.8         90.80       90.80                  \"\"   \n10          80.0         160.0         87.35       87.35                  \"\"   \n11          60.0         120.0         87.35       87.35                  \"\"   \n12          90.0         180.0         91.90       91.90    HasDriverInOffer   \n13          88.9         177.8         90.80       90.80                  \"\"   \n14          80.0         160.0         87.35       87.35                  \"\"   \n15          60.0         120.0         87.35       87.35                  \"\"   \n16          90.0         180.0         91.90       91.90    HasDriverInOffer   \n17          88.9         177.8         90.80       90.80                  \"\"   \n18          80.0         160.0         87.35       87.35                  \"\"   \n19          60.0         120.0         87.35       87.35                  \"\"   \n\n         DefeatReasons EnqueuedTimeSP  \n0   [HasDriverInOffer]       25/08/21  \n1                   \"\"       25/08/21  \n2                   \"\"       25/08/21  \n3                   \"\"       25/08/21  \n4   [HasDriverInOffer]       25/08/21  \n5                   \"\"       25/08/21  \n6                   \"\"       25/08/21  \n7                   \"\"       25/08/21  \n8   [HasDriverInOffer]       25/08/21  \n9                   \"\"       25/08/21  \n10                  \"\"       25/08/21  \n11                  \"\"       25/08/21  \n12  [HasDriverInOffer]       25/08/21  \n13                  \"\"       25/08/21  \n14                  \"\"       25/08/21  \n15                  \"\"       25/08/21  \n16  [HasDriverInOffer]       25/08/21  \n17                  \"\"       25/08/21  \n18                  \"\"       25/08/21  \n19                  \"\"       25/08/21  ",
      "text/html": "<div>\n<style scoped>\n    .dataframe tbody tr th:only-of-type {\n        vertical-align: middle;\n    }\n\n    .dataframe tbody tr th {\n        vertical-align: top;\n    }\n\n    .dataframe thead th {\n        text-align: right;\n    }\n</style>\n<table border=\"1\" class=\"dataframe\">\n  <thead>\n    <tr style=\"text-align: right;\">\n      <th></th>\n      <th>CurationProvider</th>\n      <th>OfferId</th>\n      <th>DealerId</th>\n      <th>UniqueOptionId</th>\n      <th>OptionId</th>\n      <th>IsMobileDealer</th>\n      <th>IsOpen</th>\n      <th>Eta</th>\n      <th>ChamaScore</th>\n      <th>ProductBrand</th>\n      <th>IsWinner</th>\n      <th>MinimumPrice</th>\n      <th>MaximumPrice</th>\n      <th>DynamicPrice</th>\n      <th>FinalPrice</th>\n      <th>DefeatPrimaryReason</th>\n      <th>DefeatReasons</th>\n      <th>EnqueuedTimeSP</th>\n    </tr>\n  </thead>\n  <tbody>\n    <tr>\n      <th>0</th>\n      <td>ByPrice</td>\n      <td>c99aa9a7-ac50-4a10-be0f-ac9f5ac0f45d</td>\n      <td>6517</td>\n      <td>d6562c24-0b37-5fb4-8275-65b7b8b47b87</td>\n      <td>6517 || 6517</td>\n      <td>False</td>\n      <td>True</td>\n      <td>0:01</td>\n      <td>8.0</td>\n      <td>ULTRAGAZ</td>\n      <td>False</td>\n      <td>90.0</td>\n      <td>180.0</td>\n      <td>91.90</td>\n      <td>91.90</td>\n      <td>HasDriverInOffer</td>\n      <td>[HasDriverInOffer]</td>\n      <td>25/08/21</td>\n    </tr>\n    <tr>\n      <th>1</th>\n      <td>ByPrice</td>\n      <td>c99aa9a7-ac50-4a10-be0f-ac9f5ac0f45d</td>\n      <td>9047</td>\n      <td>f9b876ab-2590-952f-d69d-5b352ec251f3</td>\n      <td>9047 || 9047 || NACIONALGAS</td>\n      <td>False</td>\n      <td>False</td>\n      <td>1:00</td>\n      <td>9.0</td>\n      <td>NACIONALGAS</td>\n      <td>True</td>\n      <td>88.9</td>\n      <td>177.8</td>\n      <td>90.80</td>\n      <td>90.80</td>\n      <td>\"\"</td>\n      <td>\"\"</td>\n      <td>25/08/21</td>\n    </tr>\n    <tr>\n      <th>2</th>\n      <td>ByPrice</td>\n      <td>c99aa9a7-ac50-4a10-be0f-ac9f5ac0f45d</td>\n      <td>8330</td>\n      <td>151e59ac-761a-96f5-d2b9-882037a9fd28</td>\n      <td>8330 || 8330 || CONSIGAZ</td>\n      <td>False</td>\n      <td>True</td>\n      <td>0:01</td>\n      <td>8.0</td>\n      <td>CONSIGAZ</td>\n      <td>True</td>\n      <td>80.0</td>\n      <td>160.0</td>\n      <td>87.35</td>\n      <td>87.35</td>\n      <td>\"\"</td>\n      <td>\"\"</td>\n      <td>25/08/21</td>\n    </tr>\n    <tr>\n      <th>3</th>\n      <td>ByPrice</td>\n      <td>c99aa9a7-ac50-4a10-be0f-ac9f5ac0f45d</td>\n      <td>8835</td>\n      <td>b7a7b6d1-4dae-7392-5aaf-f3369c29db1d</td>\n      <td>8835 || 8835 || LIQUIGAS</td>\n      <td>False</td>\n      <td>False</td>\n      <td>0:01</td>\n      <td>8.0</td>\n      <td>LIQUIGAS</td>\n      <td>True</td>\n      <td>60.0</td>\n      <td>120.0</td>\n      <td>87.35</td>\n      <td>87.35</td>\n      <td>\"\"</td>\n      <td>\"\"</td>\n      <td>25/08/21</td>\n    </tr>\n    <tr>\n      <th>4</th>\n      <td>ByPrice</td>\n      <td>c99aa9a7-ac50-4a10-be0f-ac9f5ac0f45d</td>\n      <td>6517</td>\n      <td>d6562c24-0b37-5fb4-8275-65b7b8b47b87</td>\n      <td>6517 || 6517</td>\n      <td>False</td>\n      <td>True</td>\n      <td>0:01</td>\n      <td>8.0</td>\n      <td>ULTRAGAZ</td>\n      <td>False</td>\n      <td>90.0</td>\n      <td>180.0</td>\n      <td>91.90</td>\n      <td>91.90</td>\n      <td>HasDriverInOffer</td>\n      <td>[HasDriverInOffer]</td>\n      <td>25/08/21</td>\n    </tr>\n    <tr>\n      <th>5</th>\n      <td>ByPrice</td>\n      <td>c99aa9a7-ac50-4a10-be0f-ac9f5ac0f45d</td>\n      <td>9047</td>\n      <td>f9b876ab-2590-952f-d69d-5b352ec251f3</td>\n      <td>9047 || 9047 || NACIONALGAS</td>\n      <td>False</td>\n      <td>False</td>\n      <td>1:00</td>\n      <td>9.0</td>\n      <td>NACIONALGAS</td>\n      <td>True</td>\n      <td>88.9</td>\n      <td>177.8</td>\n      <td>90.80</td>\n      <td>90.80</td>\n      <td>\"\"</td>\n      <td>\"\"</td>\n      <td>25/08/21</td>\n    </tr>\n    <tr>\n      <th>6</th>\n      <td>ByPrice</td>\n      <td>c99aa9a7-ac50-4a10-be0f-ac9f5ac0f45d</td>\n      <td>8330</td>\n      <td>151e59ac-761a-96f5-d2b9-882037a9fd28</td>\n      <td>8330 || 8330 || CONSIGAZ</td>\n      <td>False</td>\n      <td>True</td>\n      <td>0:01</td>\n      <td>8.0</td>\n      <td>CONSIGAZ</td>\n      <td>True</td>\n      <td>80.0</td>\n      <td>160.0</td>\n      <td>87.35</td>\n      <td>87.35</td>\n      <td>\"\"</td>\n      <td>\"\"</td>\n      <td>25/08/21</td>\n    </tr>\n    <tr>\n      <th>7</th>\n      <td>ByPrice</td>\n      <td>c99aa9a7-ac50-4a10-be0f-ac9f5ac0f45d</td>\n      <td>8835</td>\n      <td>b7a7b6d1-4dae-7392-5aaf-f3369c29db1d</td>\n      <td>8835 || 8835 || LIQUIGAS</td>\n      <td>False</td>\n      <td>False</td>\n      <td>0:01</td>\n      <td>8.0</td>\n      <td>LIQUIGAS</td>\n      <td>True</td>\n      <td>60.0</td>\n      <td>120.0</td>\n      <td>87.35</td>\n      <td>87.35</td>\n      <td>\"\"</td>\n      <td>\"\"</td>\n      <td>25/08/21</td>\n    </tr>\n    <tr>\n      <th>8</th>\n      <td>ByPrice</td>\n      <td>c99aa9a7-ac50-4a10-be0f-ac9f5ac0f45d</td>\n      <td>6517</td>\n      <td>d6562c24-0b37-5fb4-8275-65b7b8b47b87</td>\n      <td>6517 || 6517</td>\n      <td>False</td>\n      <td>True</td>\n      <td>0:01</td>\n      <td>8.0</td>\n      <td>ULTRAGAZ</td>\n      <td>False</td>\n      <td>90.0</td>\n      <td>180.0</td>\n      <td>91.90</td>\n      <td>91.90</td>\n      <td>HasDriverInOffer</td>\n      <td>[HasDriverInOffer]</td>\n      <td>25/08/21</td>\n    </tr>\n    <tr>\n      <th>9</th>\n      <td>ByPrice</td>\n      <td>c99aa9a7-ac50-4a10-be0f-ac9f5ac0f45d</td>\n      <td>9047</td>\n      <td>f9b876ab-2590-952f-d69d-5b352ec251f3</td>\n      <td>9047 || 9047 || NACIONALGAS</td>\n      <td>False</td>\n      <td>False</td>\n      <td>1:00</td>\n      <td>9.0</td>\n      <td>NACIONALGAS</td>\n      <td>True</td>\n      <td>88.9</td>\n      <td>177.8</td>\n      <td>90.80</td>\n      <td>90.80</td>\n      <td>\"\"</td>\n      <td>\"\"</td>\n      <td>25/08/21</td>\n    </tr>\n    <tr>\n      <th>10</th>\n      <td>ByPrice</td>\n      <td>c99aa9a7-ac50-4a10-be0f-ac9f5ac0f45d</td>\n      <td>8330</td>\n      <td>151e59ac-761a-96f5-d2b9-882037a9fd28</td>\n      <td>8330 || 8330 || CONSIGAZ</td>\n      <td>False</td>\n      <td>True</td>\n      <td>0:01</td>\n      <td>8.0</td>\n      <td>CONSIGAZ</td>\n      <td>True</td>\n      <td>80.0</td>\n      <td>160.0</td>\n      <td>87.35</td>\n      <td>87.35</td>\n      <td>\"\"</td>\n      <td>\"\"</td>\n      <td>25/08/21</td>\n    </tr>\n    <tr>\n      <th>11</th>\n      <td>ByPrice</td>\n      <td>c99aa9a7-ac50-4a10-be0f-ac9f5ac0f45d</td>\n      <td>8835</td>\n      <td>b7a7b6d1-4dae-7392-5aaf-f3369c29db1d</td>\n      <td>8835 || 8835 || LIQUIGAS</td>\n      <td>False</td>\n      <td>False</td>\n      <td>0:01</td>\n      <td>8.0</td>\n      <td>LIQUIGAS</td>\n      <td>True</td>\n      <td>60.0</td>\n      <td>120.0</td>\n      <td>87.35</td>\n      <td>87.35</td>\n      <td>\"\"</td>\n      <td>\"\"</td>\n      <td>25/08/21</td>\n    </tr>\n    <tr>\n      <th>12</th>\n      <td>ByPrice</td>\n      <td>c99aa9a7-ac50-4a10-be0f-ac9f5ac0f45d</td>\n      <td>6517</td>\n      <td>d6562c24-0b37-5fb4-8275-65b7b8b47b87</td>\n      <td>6517 || 6517</td>\n      <td>False</td>\n      <td>True</td>\n      <td>0:01</td>\n      <td>8.0</td>\n      <td>ULTRAGAZ</td>\n      <td>False</td>\n      <td>90.0</td>\n      <td>180.0</td>\n      <td>91.90</td>\n      <td>91.90</td>\n      <td>HasDriverInOffer</td>\n      <td>[HasDriverInOffer]</td>\n      <td>25/08/21</td>\n    </tr>\n    <tr>\n      <th>13</th>\n      <td>ByPrice</td>\n      <td>c99aa9a7-ac50-4a10-be0f-ac9f5ac0f45d</td>\n      <td>9047</td>\n      <td>f9b876ab-2590-952f-d69d-5b352ec251f3</td>\n      <td>9047 || 9047 || NACIONALGAS</td>\n      <td>False</td>\n      <td>False</td>\n      <td>1:00</td>\n      <td>9.0</td>\n      <td>NACIONALGAS</td>\n      <td>True</td>\n      <td>88.9</td>\n      <td>177.8</td>\n      <td>90.80</td>\n      <td>90.80</td>\n      <td>\"\"</td>\n      <td>\"\"</td>\n      <td>25/08/21</td>\n    </tr>\n    <tr>\n      <th>14</th>\n      <td>ByPrice</td>\n      <td>c99aa9a7-ac50-4a10-be0f-ac9f5ac0f45d</td>\n      <td>8330</td>\n      <td>151e59ac-761a-96f5-d2b9-882037a9fd28</td>\n      <td>8330 || 8330 || CONSIGAZ</td>\n      <td>False</td>\n      <td>True</td>\n      <td>0:01</td>\n      <td>8.0</td>\n      <td>CONSIGAZ</td>\n      <td>True</td>\n      <td>80.0</td>\n      <td>160.0</td>\n      <td>87.35</td>\n      <td>87.35</td>\n      <td>\"\"</td>\n      <td>\"\"</td>\n      <td>25/08/21</td>\n    </tr>\n    <tr>\n      <th>15</th>\n      <td>ByPrice</td>\n      <td>c99aa9a7-ac50-4a10-be0f-ac9f5ac0f45d</td>\n      <td>8835</td>\n      <td>b7a7b6d1-4dae-7392-5aaf-f3369c29db1d</td>\n      <td>8835 || 8835 || LIQUIGAS</td>\n      <td>False</td>\n      <td>False</td>\n      <td>0:01</td>\n      <td>8.0</td>\n      <td>LIQUIGAS</td>\n      <td>True</td>\n      <td>60.0</td>\n      <td>120.0</td>\n      <td>87.35</td>\n      <td>87.35</td>\n      <td>\"\"</td>\n      <td>\"\"</td>\n      <td>25/08/21</td>\n    </tr>\n    <tr>\n      <th>16</th>\n      <td>ByPrice</td>\n      <td>c99aa9a7-ac50-4a10-be0f-ac9f5ac0f45d</td>\n      <td>6517</td>\n      <td>d6562c24-0b37-5fb4-8275-65b7b8b47b87</td>\n      <td>6517 || 6517</td>\n      <td>False</td>\n      <td>True</td>\n      <td>0:01</td>\n      <td>8.0</td>\n      <td>ULTRAGAZ</td>\n      <td>False</td>\n      <td>90.0</td>\n      <td>180.0</td>\n      <td>91.90</td>\n      <td>91.90</td>\n      <td>HasDriverInOffer</td>\n      <td>[HasDriverInOffer]</td>\n      <td>25/08/21</td>\n    </tr>\n    <tr>\n      <th>17</th>\n      <td>ByPrice</td>\n      <td>c99aa9a7-ac50-4a10-be0f-ac9f5ac0f45d</td>\n      <td>9047</td>\n      <td>f9b876ab-2590-952f-d69d-5b352ec251f3</td>\n      <td>9047 || 9047 || NACIONALGAS</td>\n      <td>False</td>\n      <td>False</td>\n      <td>1:00</td>\n      <td>9.0</td>\n      <td>NACIONALGAS</td>\n      <td>True</td>\n      <td>88.9</td>\n      <td>177.8</td>\n      <td>90.80</td>\n      <td>90.80</td>\n      <td>\"\"</td>\n      <td>\"\"</td>\n      <td>25/08/21</td>\n    </tr>\n    <tr>\n      <th>18</th>\n      <td>ByPrice</td>\n      <td>c99aa9a7-ac50-4a10-be0f-ac9f5ac0f45d</td>\n      <td>8330</td>\n      <td>151e59ac-761a-96f5-d2b9-882037a9fd28</td>\n      <td>8330 || 8330 || CONSIGAZ</td>\n      <td>False</td>\n      <td>True</td>\n      <td>0:01</td>\n      <td>8.0</td>\n      <td>CONSIGAZ</td>\n      <td>True</td>\n      <td>80.0</td>\n      <td>160.0</td>\n      <td>87.35</td>\n      <td>87.35</td>\n      <td>\"\"</td>\n      <td>\"\"</td>\n      <td>25/08/21</td>\n    </tr>\n    <tr>\n      <th>19</th>\n      <td>ByPrice</td>\n      <td>c99aa9a7-ac50-4a10-be0f-ac9f5ac0f45d</td>\n      <td>8835</td>\n      <td>b7a7b6d1-4dae-7392-5aaf-f3369c29db1d</td>\n      <td>8835 || 8835 || LIQUIGAS</td>\n      <td>False</td>\n      <td>False</td>\n      <td>0:01</td>\n      <td>8.0</td>\n      <td>LIQUIGAS</td>\n      <td>True</td>\n      <td>60.0</td>\n      <td>120.0</td>\n      <td>87.35</td>\n      <td>87.35</td>\n      <td>\"\"</td>\n      <td>\"\"</td>\n      <td>25/08/21</td>\n    </tr>\n  </tbody>\n</table>\n</div>"
     },
     "execution_count": 43,
     "metadata": {},
     "output_type": "execute_result"
    }
   ],
   "source": [
    "def curated_offer(row):\n",
    "    EnqueuedTimeSP = CurateOffer_Result['EnqueuedTimeUtc'][1].to_pydatetime().strftime(\"%d/%m/%y\")\n",
    "    payload_row = CurateOffer_Result['Payload'][1]\n",
    "    payload_row = json.loads(payload_row)\n",
    "    result = []\n",
    "    for el in payload_row:\n",
    "        CurationProvider = el['curationProvider']\n",
    "        offerId = el['offerId']\n",
    "        dealerId = el['dealerId']\n",
    "        for unique_option in el['options']:\n",
    "            curation_payload = {\n",
    "                \"CurationProvider\":CurationProvider,\n",
    "                \"OfferId\": offerId,\n",
    "                \"DealerId\": dealerId,\n",
    "                \"UniqueOptionId\": unique_option['uniqueOptionId'],\n",
    "                \"OptionId\": unique_option['optionId'],\n",
    "                \"IsMobileDealer\": unique_option['isMobileDealer'],\n",
    "                \"IsOpen\": unique_option['isOpen'],\n",
    "                \"Eta\": unique_option['eta'],\n",
    "                \"ChamaScore\": unique_option['chamaScore'],\n",
    "                \"ProductBrand\": unique_option['productBrand'],\n",
    "                \"IsWinner\": unique_option['isWinner'],\n",
    "                \"MinimumPrice\": unique_option['minimumPrice'],\n",
    "                \"MaximumPrice\": unique_option['maximumPrice'],\n",
    "                \"DynamicPrice\": unique_option['dynamicPrice'],\n",
    "                \"FinalPrice\": unique_option['finalPrice']\n",
    "            }\n",
    "            if 'defeatPrimaryReason' in unique_option:\n",
    "                curation_payload['DefeatPrimaryReason'] = unique_option['defeatPrimaryReason']\n",
    "                curation_payload['DefeatReasons'] = unique_option['defeatReasons']\n",
    "            else:\n",
    "                curation_payload[\"DefeatPrimaryReason\"] = \"\\\"\\\"\"\n",
    "                curation_payload[\"DefeatReasons\"] = \"\\\"\\\"\"\n",
    "            curation_payload['EnqueuedTimeSP'] = EnqueuedTimeSP\n",
    "        result.append(curation_payload)\n",
    "    return result\n",
    "\n",
    "\n",
    "flatten = [x for xs in CurateOffer_Result.apply(curated_offer, axis=1) for x in xs]\n",
    "curated_offers_payload = pd.DataFrame(flatten)\n",
    "curated_offers_payload"
   ],
   "metadata": {
    "collapsed": false
   }
  },
  {
   "cell_type": "code",
   "execution_count": 52,
   "metadata": {},
   "outputs": [
    {
     "name": "stdout",
     "output_type": "stream",
     "text": [
      "The data type before using apply function: <class 'str'>\n",
      "\n",
      "The data type after using apply function: <class 'dict'>\n"
     ]
    },
    {
     "name": "stderr",
     "output_type": "stream",
     "text": [
      "C:\\Users\\18572\\AppData\\Local\\Temp\\ipykernel_20492\\3320935277.py:10: SettingWithCopyWarning: \n",
      "A value is trying to be set on a copy of a slice from a DataFrame.\n",
      "Try using .loc[row_indexer,col_indexer] = value instead\n",
      "\n",
      "See the caveats in the documentation: https://pandas.pydata.org/pandas-docs/stable/user_guide/indexing.html#returning-a-view-versus-a-copy\n",
      "  DynamicPrice_Result[x] = DynamicPrice_Result[x].apply(clean_json)\n"
     ]
    }
   ],
   "source": [
    "sample_type = type(DynamicPrice_Result[\"Payload\"][0])\n",
    "print(f\"The data type before using apply function: {sample_type}\\n\")\n",
    "#column names that \n",
    "json_columns = ['Payload']\n",
    "\n",
    "def clean_json(x):\n",
    "    return json.loads(x)\n",
    "\n",
    "for x in json_columns:\n",
    "    DynamicPrice_Result[x] = DynamicPrice_Result[x].apply(clean_json)\n",
    "\n",
    "sample_type2 = type(DynamicPrice_Result[\"Payload\"][0])\n",
    "print(f\"The data type after using apply function: {sample_type2}\")"
   ]
  },
  {
   "cell_type": "code",
   "execution_count": 83,
   "metadata": {},
   "outputs": [
    {
     "name": "stdout",
     "output_type": "stream",
     "text": [
      "The data type before using apply function: <class 'str'>\n",
      "\n",
      "The data type after using apply function: <class 'list'>\n"
     ]
    },
    {
     "name": "stderr",
     "output_type": "stream",
     "text": [
      "C:\\Users\\18572\\AppData\\Local\\Temp\\ipykernel_20492\\1183088804.py:10: SettingWithCopyWarning: \n",
      "A value is trying to be set on a copy of a slice from a DataFrame.\n",
      "Try using .loc[row_indexer,col_indexer] = value instead\n",
      "\n",
      "See the caveats in the documentation: https://pandas.pydata.org/pandas-docs/stable/user_guide/indexing.html#returning-a-view-versus-a-copy\n",
      "  CurateOffer_Result[x] = CurateOffer_Result[x].apply(clean_json)\n"
     ]
    }
   ],
   "source": [
    "sample_type3 = type(CurateOffer_Result[\"Payload\"][3])\n",
    "print(f\"The data type before using apply function: {sample_type3}\\n\")\n",
    "#column names that \n",
    "json_columns = ['Payload']\n",
    "\n",
    "def clean_json(x):\n",
    "    return json.loads(x)\n",
    "\n",
    "for x in json_columns:\n",
    "    CurateOffer_Result[x] = CurateOffer_Result[x].apply(clean_json)\n",
    "\n",
    "sample_type4 = type(CurateOffer_Result[\"Payload\"][3])\n",
    "print(f\"The data type after using apply function: {sample_type4}\")"
   ]
  },
  {
   "cell_type": "code",
   "execution_count": 89,
   "metadata": {},
   "outputs": [
    {
     "data": {
      "text/plain": [
       "[{'curationProvider': 'ByPrice',\n",
       "  'offerId': 'c99aa9a7-ac50-4a10-be0f-ac9f5ac0f45d',\n",
       "  'dealerId': '6517',\n",
       "  'options': [{'uniqueOptionId': 'b0e296a9-0590-f0e0-8211-243a2ededb12',\n",
       "    'optionId': '6517 || dd839e4c-9f84-45eb-9cb2-9069fecf70f2',\n",
       "    'isMobileDealer': True,\n",
       "    'isOpen': True,\n",
       "    'eta': '00:12:54.9215999',\n",
       "    'chamaScore': 8.0,\n",
       "    'productBrand': 'ULTRAGAZ',\n",
       "    'isWinner': True,\n",
       "    'minimumPrice': 90.0,\n",
       "    'maximumPrice': 180.0,\n",
       "    'dynamicPrice': 91.9,\n",
       "    'finalPrice': 91.9},\n",
       "   {'uniqueOptionId': 'd6562c24-0b37-5fb4-8275-65b7b8b47b87',\n",
       "    'optionId': '6517 || 6517',\n",
       "    'isMobileDealer': False,\n",
       "    'isOpen': True,\n",
       "    'eta': '0:01',\n",
       "    'chamaScore': 8.0,\n",
       "    'productBrand': 'ULTRAGAZ',\n",
       "    'isWinner': False,\n",
       "    'minimumPrice': 90.0,\n",
       "    'maximumPrice': 180.0,\n",
       "    'dynamicPrice': 91.9,\n",
       "    'finalPrice': 91.9,\n",
       "    'defeatPrimaryReason': 'HasDriverInOffer',\n",
       "    'defeatReasons': ['HasDriverInOffer']}]},\n",
       " {'curationProvider': 'ByPrice',\n",
       "  'offerId': 'c99aa9a7-ac50-4a10-be0f-ac9f5ac0f45d',\n",
       "  'dealerId': '9047',\n",
       "  'options': [{'uniqueOptionId': '8d0f9262-f543-d0c8-a869-33985ae3ecda',\n",
       "    'optionId': '9047 || 9047 || ULTRAGAZ',\n",
       "    'isMobileDealer': False,\n",
       "    'isOpen': False,\n",
       "    'eta': '1:00',\n",
       "    'chamaScore': 9.0,\n",
       "    'productBrand': 'ULTRAGAZ',\n",
       "    'isWinner': False,\n",
       "    'minimumPrice': 99.0,\n",
       "    'maximumPrice': 198.0,\n",
       "    'dynamicPrice': 99.95,\n",
       "    'finalPrice': 99.95,\n",
       "    'defeatPrimaryReason': 'Closed',\n",
       "    'defeatReasons': ['Closed',\n",
       "     'HigherPrice',\n",
       "     'HasDriverInOffer',\n",
       "     'HigherETA']},\n",
       "   {'uniqueOptionId': '3cd346f4-d297-7568-2e50-d43a8e2fd0a9',\n",
       "    'optionId': '9047 || 9047 || CONSIGAZ',\n",
       "    'isMobileDealer': False,\n",
       "    'isOpen': False,\n",
       "    'eta': '1:00',\n",
       "    'chamaScore': 9.0,\n",
       "    'productBrand': 'CONSIGAZ',\n",
       "    'isWinner': False,\n",
       "    'minimumPrice': 89.99,\n",
       "    'maximumPrice': 179.98,\n",
       "    'dynamicPrice': 91.89,\n",
       "    'finalPrice': 91.89,\n",
       "    'defeatPrimaryReason': 'Closed',\n",
       "    'defeatReasons': ['Closed', 'HigherPrice', 'HigherETA']},\n",
       "   {'uniqueOptionId': '577e4bbd-f49d-ac23-56a6-e70072a05229',\n",
       "    'optionId': '9047 || 9047 || LIQUIGAS',\n",
       "    'isMobileDealer': False,\n",
       "    'isOpen': False,\n",
       "    'eta': '1:00',\n",
       "    'chamaScore': 9.0,\n",
       "    'productBrand': 'LIQUIGAS',\n",
       "    'isWinner': False,\n",
       "    'minimumPrice': 92.0,\n",
       "    'maximumPrice': 184.0,\n",
       "    'dynamicPrice': 93.9,\n",
       "    'finalPrice': 93.9,\n",
       "    'defeatPrimaryReason': 'Closed',\n",
       "    'defeatReasons': ['Closed', 'HigherPrice', 'HigherETA']},\n",
       "   {'uniqueOptionId': 'f9b876ab-2590-952f-d69d-5b352ec251f3',\n",
       "    'optionId': '9047 || 9047 || NACIONALGAS',\n",
       "    'isMobileDealer': False,\n",
       "    'isOpen': False,\n",
       "    'eta': '1:00',\n",
       "    'chamaScore': 9.0,\n",
       "    'productBrand': 'NACIONALGAS',\n",
       "    'isWinner': True,\n",
       "    'minimumPrice': 88.9,\n",
       "    'maximumPrice': 177.8,\n",
       "    'dynamicPrice': 90.8,\n",
       "    'finalPrice': 90.8}]},\n",
       " {'curationProvider': 'ByPrice',\n",
       "  'offerId': 'c99aa9a7-ac50-4a10-be0f-ac9f5ac0f45d',\n",
       "  'dealerId': '8330',\n",
       "  'options': [{'uniqueOptionId': '151e59ac-761a-96f5-d2b9-882037a9fd28',\n",
       "    'optionId': '8330 || 8330 || CONSIGAZ',\n",
       "    'isMobileDealer': False,\n",
       "    'isOpen': True,\n",
       "    'eta': '0:01',\n",
       "    'chamaScore': 8.0,\n",
       "    'productBrand': 'CONSIGAZ',\n",
       "    'isWinner': True,\n",
       "    'minimumPrice': 80.0,\n",
       "    'maximumPrice': 160.0,\n",
       "    'dynamicPrice': 87.35,\n",
       "    'finalPrice': 87.35}]},\n",
       " {'curationProvider': 'ByPrice',\n",
       "  'offerId': 'c99aa9a7-ac50-4a10-be0f-ac9f5ac0f45d',\n",
       "  'dealerId': '8835',\n",
       "  'options': [{'uniqueOptionId': 'b7a7b6d1-4dae-7392-5aaf-f3369c29db1d',\n",
       "    'optionId': '8835 || 8835 || LIQUIGAS',\n",
       "    'isMobileDealer': False,\n",
       "    'isOpen': False,\n",
       "    'eta': '0:01',\n",
       "    'chamaScore': 8.0,\n",
       "    'productBrand': 'LIQUIGAS',\n",
       "    'isWinner': True,\n",
       "    'minimumPrice': 60.0,\n",
       "    'maximumPrice': 120.0,\n",
       "    'dynamicPrice': 87.35,\n",
       "    'finalPrice': 87.35}]}]"
      ]
     },
     "execution_count": 89,
     "metadata": {},
     "output_type": "execute_result"
    }
   ],
   "source": [
    "CurateOffer_Result.Payload[1]"
   ]
  },
  {
   "cell_type": "code",
   "execution_count": null,
   "metadata": {},
   "outputs": [],
   "source": []
  }
 ],
 "metadata": {
  "kernelspec": {
   "display_name": "base",
   "language": "python",
   "name": "python3"
  },
  "language_info": {
   "codemirror_mode": {
    "name": "ipython",
    "version": 3
   },
   "file_extension": ".py",
   "mimetype": "text/x-python",
   "name": "python",
   "nbconvert_exporter": "python",
   "pygments_lexer": "ipython3",
   "version": "3.9.13"
  },
  "orig_nbformat": 4
 },
 "nbformat": 4,
 "nbformat_minor": 2
}
